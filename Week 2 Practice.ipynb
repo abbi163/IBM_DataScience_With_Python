{
    "nbformat_minor": 1, 
    "cells": [
        {
            "source": "# Data Preprocessing \nalso called, Data Cleaning or Data Wrangling", 
            "cell_type": "markdown", 
            "metadata": {
                "collapsed": true
            }
        }, 
        {
            "execution_count": 60, 
            "cell_type": "code", 
            "metadata": {}, 
            "outputs": [], 
            "source": "# The code was removed by Watson Studio for sharing."
        }, 
        {
            "execution_count": 61, 
            "cell_type": "code", 
            "metadata": {}, 
            "outputs": [
                {
                    "execution_count": 61, 
                    "metadata": {}, 
                    "data": {
                        "text/html": "<div>\n<style scoped>\n    .dataframe tbody tr th:only-of-type {\n        vertical-align: middle;\n    }\n\n    .dataframe tbody tr th {\n        vertical-align: top;\n    }\n\n    .dataframe thead th {\n        text-align: right;\n    }\n</style>\n<table border=\"1\" class=\"dataframe\">\n  <thead>\n    <tr style=\"text-align: right;\">\n      <th></th>\n      <th>symboling</th>\n      <th>normalized-losses</th>\n      <th>make</th>\n      <th>fuel-type</th>\n      <th>aspiration</th>\n      <th>num-of-doors</th>\n      <th>body-style</th>\n      <th>drive-wheels</th>\n      <th>engine-location</th>\n      <th>wheel-base</th>\n      <th>...</th>\n      <th>engine-size</th>\n      <th>fuel-system</th>\n      <th>bore</th>\n      <th>stroke</th>\n      <th>compression-ratio</th>\n      <th>horsepower</th>\n      <th>peak-rpm</th>\n      <th>city-mpg</th>\n      <th>highway-mpg</th>\n      <th>price</th>\n    </tr>\n  </thead>\n  <tbody>\n    <tr>\n      <th>0</th>\n      <td>3</td>\n      <td>?</td>\n      <td>alfa-romero</td>\n      <td>gas</td>\n      <td>std</td>\n      <td>two</td>\n      <td>convertible</td>\n      <td>rwd</td>\n      <td>front</td>\n      <td>88.6</td>\n      <td>...</td>\n      <td>130</td>\n      <td>mpfi</td>\n      <td>3.47</td>\n      <td>2.68</td>\n      <td>9.0</td>\n      <td>111</td>\n      <td>5000</td>\n      <td>21</td>\n      <td>27</td>\n      <td>13495</td>\n    </tr>\n    <tr>\n      <th>1</th>\n      <td>3</td>\n      <td>?</td>\n      <td>alfa-romero</td>\n      <td>gas</td>\n      <td>std</td>\n      <td>two</td>\n      <td>convertible</td>\n      <td>rwd</td>\n      <td>front</td>\n      <td>88.6</td>\n      <td>...</td>\n      <td>130</td>\n      <td>mpfi</td>\n      <td>3.47</td>\n      <td>2.68</td>\n      <td>9.0</td>\n      <td>111</td>\n      <td>5000</td>\n      <td>21</td>\n      <td>27</td>\n      <td>16500</td>\n    </tr>\n    <tr>\n      <th>2</th>\n      <td>1</td>\n      <td>?</td>\n      <td>alfa-romero</td>\n      <td>gas</td>\n      <td>std</td>\n      <td>two</td>\n      <td>hatchback</td>\n      <td>rwd</td>\n      <td>front</td>\n      <td>94.5</td>\n      <td>...</td>\n      <td>152</td>\n      <td>mpfi</td>\n      <td>2.68</td>\n      <td>3.47</td>\n      <td>9.0</td>\n      <td>154</td>\n      <td>5000</td>\n      <td>19</td>\n      <td>26</td>\n      <td>16500</td>\n    </tr>\n    <tr>\n      <th>3</th>\n      <td>2</td>\n      <td>164</td>\n      <td>audi</td>\n      <td>gas</td>\n      <td>std</td>\n      <td>four</td>\n      <td>sedan</td>\n      <td>fwd</td>\n      <td>front</td>\n      <td>99.8</td>\n      <td>...</td>\n      <td>109</td>\n      <td>mpfi</td>\n      <td>3.19</td>\n      <td>3.4</td>\n      <td>10.0</td>\n      <td>102</td>\n      <td>5500</td>\n      <td>24</td>\n      <td>30</td>\n      <td>13950</td>\n    </tr>\n    <tr>\n      <th>4</th>\n      <td>2</td>\n      <td>164</td>\n      <td>audi</td>\n      <td>gas</td>\n      <td>std</td>\n      <td>four</td>\n      <td>sedan</td>\n      <td>4wd</td>\n      <td>front</td>\n      <td>99.4</td>\n      <td>...</td>\n      <td>136</td>\n      <td>mpfi</td>\n      <td>3.19</td>\n      <td>3.4</td>\n      <td>8.0</td>\n      <td>115</td>\n      <td>5500</td>\n      <td>18</td>\n      <td>22</td>\n      <td>17450</td>\n    </tr>\n  </tbody>\n</table>\n<p>5 rows \u00d7 26 columns</p>\n</div>", 
                        "text/plain": "   symboling normalized-losses         make fuel-type aspiration num-of-doors  \\\n0          3                 ?  alfa-romero       gas        std          two   \n1          3                 ?  alfa-romero       gas        std          two   \n2          1                 ?  alfa-romero       gas        std          two   \n3          2               164         audi       gas        std         four   \n4          2               164         audi       gas        std         four   \n\n    body-style drive-wheels engine-location  wheel-base  ...    engine-size  \\\n0  convertible          rwd           front        88.6  ...            130   \n1  convertible          rwd           front        88.6  ...            130   \n2    hatchback          rwd           front        94.5  ...            152   \n3        sedan          fwd           front        99.8  ...            109   \n4        sedan          4wd           front        99.4  ...            136   \n\n   fuel-system  bore  stroke compression-ratio horsepower  peak-rpm city-mpg  \\\n0         mpfi  3.47    2.68               9.0        111      5000       21   \n1         mpfi  3.47    2.68               9.0        111      5000       21   \n2         mpfi  2.68    3.47               9.0        154      5000       19   \n3         mpfi  3.19     3.4              10.0        102      5500       24   \n4         mpfi  3.19     3.4               8.0        115      5500       18   \n\n  highway-mpg  price  \n0          27  13495  \n1          27  16500  \n2          26  16500  \n3          30  13950  \n4          22  17450  \n\n[5 rows x 26 columns]"
                    }, 
                    "output_type": "execute_result"
                }
            ], 
            "source": "CarData = pd.read_csv(body)\nCarData.head()\n"
        }, 
        {
            "source": "### Counting total number of missing values in each columns.\n", 
            "cell_type": "markdown", 
            "metadata": {}
        }, 
        {
            "execution_count": 63, 
            "cell_type": "code", 
            "metadata": {}, 
            "outputs": [
                {
                    "execution_count": 63, 
                    "metadata": {}, 
                    "data": {
                        "text/html": "<div>\n<style scoped>\n    .dataframe tbody tr th:only-of-type {\n        vertical-align: middle;\n    }\n\n    .dataframe tbody tr th {\n        vertical-align: top;\n    }\n\n    .dataframe thead th {\n        text-align: right;\n    }\n</style>\n<table border=\"1\" class=\"dataframe\">\n  <thead>\n    <tr style=\"text-align: right;\">\n      <th></th>\n      <th>symboling</th>\n      <th>normalized-losses</th>\n      <th>make</th>\n      <th>fuel-type</th>\n      <th>aspiration</th>\n      <th>num-of-doors</th>\n      <th>body-style</th>\n      <th>drive-wheels</th>\n      <th>engine-location</th>\n      <th>wheel-base</th>\n      <th>...</th>\n      <th>engine-size</th>\n      <th>fuel-system</th>\n      <th>bore</th>\n      <th>stroke</th>\n      <th>compression-ratio</th>\n      <th>horsepower</th>\n      <th>peak-rpm</th>\n      <th>city-mpg</th>\n      <th>highway-mpg</th>\n      <th>price</th>\n    </tr>\n  </thead>\n  <tbody>\n    <tr>\n      <th>0</th>\n      <td>3</td>\n      <td>NaN</td>\n      <td>alfa-romero</td>\n      <td>gas</td>\n      <td>std</td>\n      <td>two</td>\n      <td>convertible</td>\n      <td>rwd</td>\n      <td>front</td>\n      <td>88.6</td>\n      <td>...</td>\n      <td>130</td>\n      <td>mpfi</td>\n      <td>3.47</td>\n      <td>2.68</td>\n      <td>9.0</td>\n      <td>111</td>\n      <td>5000</td>\n      <td>21</td>\n      <td>27</td>\n      <td>13495</td>\n    </tr>\n    <tr>\n      <th>1</th>\n      <td>3</td>\n      <td>NaN</td>\n      <td>alfa-romero</td>\n      <td>gas</td>\n      <td>std</td>\n      <td>two</td>\n      <td>convertible</td>\n      <td>rwd</td>\n      <td>front</td>\n      <td>88.6</td>\n      <td>...</td>\n      <td>130</td>\n      <td>mpfi</td>\n      <td>3.47</td>\n      <td>2.68</td>\n      <td>9.0</td>\n      <td>111</td>\n      <td>5000</td>\n      <td>21</td>\n      <td>27</td>\n      <td>16500</td>\n    </tr>\n    <tr>\n      <th>2</th>\n      <td>1</td>\n      <td>NaN</td>\n      <td>alfa-romero</td>\n      <td>gas</td>\n      <td>std</td>\n      <td>two</td>\n      <td>hatchback</td>\n      <td>rwd</td>\n      <td>front</td>\n      <td>94.5</td>\n      <td>...</td>\n      <td>152</td>\n      <td>mpfi</td>\n      <td>2.68</td>\n      <td>3.47</td>\n      <td>9.0</td>\n      <td>154</td>\n      <td>5000</td>\n      <td>19</td>\n      <td>26</td>\n      <td>16500</td>\n    </tr>\n    <tr>\n      <th>3</th>\n      <td>2</td>\n      <td>164</td>\n      <td>audi</td>\n      <td>gas</td>\n      <td>std</td>\n      <td>four</td>\n      <td>sedan</td>\n      <td>fwd</td>\n      <td>front</td>\n      <td>99.8</td>\n      <td>...</td>\n      <td>109</td>\n      <td>mpfi</td>\n      <td>3.19</td>\n      <td>3.4</td>\n      <td>10.0</td>\n      <td>102</td>\n      <td>5500</td>\n      <td>24</td>\n      <td>30</td>\n      <td>13950</td>\n    </tr>\n    <tr>\n      <th>4</th>\n      <td>2</td>\n      <td>164</td>\n      <td>audi</td>\n      <td>gas</td>\n      <td>std</td>\n      <td>four</td>\n      <td>sedan</td>\n      <td>4wd</td>\n      <td>front</td>\n      <td>99.4</td>\n      <td>...</td>\n      <td>136</td>\n      <td>mpfi</td>\n      <td>3.19</td>\n      <td>3.4</td>\n      <td>8.0</td>\n      <td>115</td>\n      <td>5500</td>\n      <td>18</td>\n      <td>22</td>\n      <td>17450</td>\n    </tr>\n  </tbody>\n</table>\n<p>5 rows \u00d7 26 columns</p>\n</div>", 
                        "text/plain": "   symboling normalized-losses         make fuel-type aspiration num-of-doors  \\\n0          3               NaN  alfa-romero       gas        std          two   \n1          3               NaN  alfa-romero       gas        std          two   \n2          1               NaN  alfa-romero       gas        std          two   \n3          2               164         audi       gas        std         four   \n4          2               164         audi       gas        std         four   \n\n    body-style drive-wheels engine-location  wheel-base  ...    engine-size  \\\n0  convertible          rwd           front        88.6  ...            130   \n1  convertible          rwd           front        88.6  ...            130   \n2    hatchback          rwd           front        94.5  ...            152   \n3        sedan          fwd           front        99.8  ...            109   \n4        sedan          4wd           front        99.4  ...            136   \n\n   fuel-system  bore  stroke compression-ratio horsepower  peak-rpm city-mpg  \\\n0         mpfi  3.47    2.68               9.0        111      5000       21   \n1         mpfi  3.47    2.68               9.0        111      5000       21   \n2         mpfi  2.68    3.47               9.0        154      5000       19   \n3         mpfi  3.19     3.4              10.0        102      5500       24   \n4         mpfi  3.19     3.4               8.0        115      5500       18   \n\n  highway-mpg  price  \n0          27  13495  \n1          27  16500  \n2          26  16500  \n3          30  13950  \n4          22  17450  \n\n[5 rows x 26 columns]"
                    }, 
                    "output_type": "execute_result"
                }
            ], 
            "source": "# replace \"?\" to NaN\nCarData.replace(\"?\", np.nan, inplace = True)\nCarData.head(5)"
        }, 
        {
            "execution_count": 64, 
            "cell_type": "code", 
            "metadata": {}, 
            "outputs": [
                {
                    "execution_count": 64, 
                    "metadata": {}, 
                    "data": {
                        "text/html": "<div>\n<style scoped>\n    .dataframe tbody tr th:only-of-type {\n        vertical-align: middle;\n    }\n\n    .dataframe tbody tr th {\n        vertical-align: top;\n    }\n\n    .dataframe thead th {\n        text-align: right;\n    }\n</style>\n<table border=\"1\" class=\"dataframe\">\n  <thead>\n    <tr style=\"text-align: right;\">\n      <th></th>\n      <th>symboling</th>\n      <th>normalized-losses</th>\n      <th>make</th>\n      <th>fuel-type</th>\n      <th>aspiration</th>\n      <th>num-of-doors</th>\n      <th>body-style</th>\n      <th>drive-wheels</th>\n      <th>engine-location</th>\n      <th>wheel-base</th>\n      <th>...</th>\n      <th>engine-size</th>\n      <th>fuel-system</th>\n      <th>bore</th>\n      <th>stroke</th>\n      <th>compression-ratio</th>\n      <th>horsepower</th>\n      <th>peak-rpm</th>\n      <th>city-mpg</th>\n      <th>highway-mpg</th>\n      <th>price</th>\n    </tr>\n  </thead>\n  <tbody>\n    <tr>\n      <th>0</th>\n      <td>False</td>\n      <td>True</td>\n      <td>False</td>\n      <td>False</td>\n      <td>False</td>\n      <td>False</td>\n      <td>False</td>\n      <td>False</td>\n      <td>False</td>\n      <td>False</td>\n      <td>...</td>\n      <td>False</td>\n      <td>False</td>\n      <td>False</td>\n      <td>False</td>\n      <td>False</td>\n      <td>False</td>\n      <td>False</td>\n      <td>False</td>\n      <td>False</td>\n      <td>False</td>\n    </tr>\n    <tr>\n      <th>1</th>\n      <td>False</td>\n      <td>True</td>\n      <td>False</td>\n      <td>False</td>\n      <td>False</td>\n      <td>False</td>\n      <td>False</td>\n      <td>False</td>\n      <td>False</td>\n      <td>False</td>\n      <td>...</td>\n      <td>False</td>\n      <td>False</td>\n      <td>False</td>\n      <td>False</td>\n      <td>False</td>\n      <td>False</td>\n      <td>False</td>\n      <td>False</td>\n      <td>False</td>\n      <td>False</td>\n    </tr>\n    <tr>\n      <th>2</th>\n      <td>False</td>\n      <td>True</td>\n      <td>False</td>\n      <td>False</td>\n      <td>False</td>\n      <td>False</td>\n      <td>False</td>\n      <td>False</td>\n      <td>False</td>\n      <td>False</td>\n      <td>...</td>\n      <td>False</td>\n      <td>False</td>\n      <td>False</td>\n      <td>False</td>\n      <td>False</td>\n      <td>False</td>\n      <td>False</td>\n      <td>False</td>\n      <td>False</td>\n      <td>False</td>\n    </tr>\n    <tr>\n      <th>3</th>\n      <td>False</td>\n      <td>False</td>\n      <td>False</td>\n      <td>False</td>\n      <td>False</td>\n      <td>False</td>\n      <td>False</td>\n      <td>False</td>\n      <td>False</td>\n      <td>False</td>\n      <td>...</td>\n      <td>False</td>\n      <td>False</td>\n      <td>False</td>\n      <td>False</td>\n      <td>False</td>\n      <td>False</td>\n      <td>False</td>\n      <td>False</td>\n      <td>False</td>\n      <td>False</td>\n    </tr>\n    <tr>\n      <th>4</th>\n      <td>False</td>\n      <td>False</td>\n      <td>False</td>\n      <td>False</td>\n      <td>False</td>\n      <td>False</td>\n      <td>False</td>\n      <td>False</td>\n      <td>False</td>\n      <td>False</td>\n      <td>...</td>\n      <td>False</td>\n      <td>False</td>\n      <td>False</td>\n      <td>False</td>\n      <td>False</td>\n      <td>False</td>\n      <td>False</td>\n      <td>False</td>\n      <td>False</td>\n      <td>False</td>\n    </tr>\n  </tbody>\n</table>\n<p>5 rows \u00d7 26 columns</p>\n</div>", 
                        "text/plain": "   symboling  normalized-losses   make  fuel-type  aspiration  num-of-doors  \\\n0      False               True  False      False       False         False   \n1      False               True  False      False       False         False   \n2      False               True  False      False       False         False   \n3      False              False  False      False       False         False   \n4      False              False  False      False       False         False   \n\n   body-style  drive-wheels  engine-location  wheel-base  ...    engine-size  \\\n0       False         False            False       False  ...          False   \n1       False         False            False       False  ...          False   \n2       False         False            False       False  ...          False   \n3       False         False            False       False  ...          False   \n4       False         False            False       False  ...          False   \n\n   fuel-system   bore  stroke  compression-ratio  horsepower  peak-rpm  \\\n0        False  False   False              False       False     False   \n1        False  False   False              False       False     False   \n2        False  False   False              False       False     False   \n3        False  False   False              False       False     False   \n4        False  False   False              False       False     False   \n\n   city-mpg  highway-mpg  price  \n0     False        False  False  \n1     False        False  False  \n2     False        False  False  \n3     False        False  False  \n4     False        False  False  \n\n[5 rows x 26 columns]"
                    }, 
                    "output_type": "execute_result"
                }
            ], 
            "source": "missing_data = CarData.isnull()\nmissing_data.head(5)"
        }, 
        {
            "source": "#### Counting the missing value", 
            "cell_type": "markdown", 
            "metadata": {}
        }, 
        {
            "execution_count": 66, 
            "cell_type": "code", 
            "metadata": {}, 
            "outputs": [
                {
                    "output_type": "stream", 
                    "name": "stdout", 
                    "text": "symboling\nFalse    205\nName: symboling, dtype: int64\n\nnormalized-losses\nFalse    164\nTrue      41\nName: normalized-losses, dtype: int64\n\nmake\nFalse    205\nName: make, dtype: int64\n\nfuel-type\nFalse    205\nName: fuel-type, dtype: int64\n\naspiration\nFalse    205\nName: aspiration, dtype: int64\n\nnum-of-doors\nFalse    203\nTrue       2\nName: num-of-doors, dtype: int64\n\nbody-style\nFalse    205\nName: body-style, dtype: int64\n\ndrive-wheels\nFalse    205\nName: drive-wheels, dtype: int64\n\nengine-location\nFalse    205\nName: engine-location, dtype: int64\n\nwheel-base\nFalse    205\nName: wheel-base, dtype: int64\n\nlength\nFalse    205\nName: length, dtype: int64\n\nwidth\nFalse    205\nName: width, dtype: int64\n\nheight\nFalse    205\nName: height, dtype: int64\n\ncurb-weight\nFalse    205\nName: curb-weight, dtype: int64\n\nengine-type\nFalse    205\nName: engine-type, dtype: int64\n\nnum-of-cylinders\nFalse    205\nName: num-of-cylinders, dtype: int64\n\nengine-size\nFalse    205\nName: engine-size, dtype: int64\n\nfuel-system\nFalse    205\nName: fuel-system, dtype: int64\n\nbore\nFalse    201\nTrue       4\nName: bore, dtype: int64\n\nstroke\nFalse    201\nTrue       4\nName: stroke, dtype: int64\n\ncompression-ratio\nFalse    205\nName: compression-ratio, dtype: int64\n\nhorsepower\nFalse    203\nTrue       2\nName: horsepower, dtype: int64\n\npeak-rpm\nFalse    203\nTrue       2\nName: peak-rpm, dtype: int64\n\ncity-mpg\nFalse    205\nName: city-mpg, dtype: int64\n\nhighway-mpg\nFalse    205\nName: highway-mpg, dtype: int64\n\nprice\nFalse    201\nTrue       4\nName: price, dtype: int64\n\n"
                }
            ], 
            "source": "# shows missing value in each of the column of the data. \n\nfor column in missing_data.columns.values.tolist():\n    print(column)\n    print (missing_data[column].value_counts())\n    print(\"\")   "
        }, 
        {
            "source": "# Manipulating Symboling by adding 1 to each element of the column", 
            "cell_type": "markdown", 
            "metadata": {}
        }, 
        {
            "execution_count": 3, 
            "cell_type": "code", 
            "metadata": {}, 
            "outputs": [
                {
                    "execution_count": 3, 
                    "metadata": {}, 
                    "data": {
                        "text/html": "<div>\n<style scoped>\n    .dataframe tbody tr th:only-of-type {\n        vertical-align: middle;\n    }\n\n    .dataframe tbody tr th {\n        vertical-align: top;\n    }\n\n    .dataframe thead th {\n        text-align: right;\n    }\n</style>\n<table border=\"1\" class=\"dataframe\">\n  <thead>\n    <tr style=\"text-align: right;\">\n      <th></th>\n      <th>symboling</th>\n      <th>normalized-losses</th>\n      <th>make</th>\n      <th>fuel-type</th>\n      <th>aspiration</th>\n      <th>num-of-doors</th>\n      <th>body-style</th>\n      <th>drive-wheels</th>\n      <th>engine-location</th>\n      <th>wheel-base</th>\n      <th>...</th>\n      <th>engine-size</th>\n      <th>fuel-system</th>\n      <th>bore</th>\n      <th>stroke</th>\n      <th>compression-ratio</th>\n      <th>horsepower</th>\n      <th>peak-rpm</th>\n      <th>city-mpg</th>\n      <th>highway-mpg</th>\n      <th>price</th>\n    </tr>\n  </thead>\n  <tbody>\n    <tr>\n      <th>0</th>\n      <td>4</td>\n      <td>?</td>\n      <td>alfa-romero</td>\n      <td>gas</td>\n      <td>std</td>\n      <td>two</td>\n      <td>convertible</td>\n      <td>rwd</td>\n      <td>front</td>\n      <td>88.6</td>\n      <td>...</td>\n      <td>130</td>\n      <td>mpfi</td>\n      <td>3.47</td>\n      <td>2.68</td>\n      <td>9.0</td>\n      <td>111</td>\n      <td>5000</td>\n      <td>21</td>\n      <td>27</td>\n      <td>13495</td>\n    </tr>\n    <tr>\n      <th>1</th>\n      <td>4</td>\n      <td>?</td>\n      <td>alfa-romero</td>\n      <td>gas</td>\n      <td>std</td>\n      <td>two</td>\n      <td>convertible</td>\n      <td>rwd</td>\n      <td>front</td>\n      <td>88.6</td>\n      <td>...</td>\n      <td>130</td>\n      <td>mpfi</td>\n      <td>3.47</td>\n      <td>2.68</td>\n      <td>9.0</td>\n      <td>111</td>\n      <td>5000</td>\n      <td>21</td>\n      <td>27</td>\n      <td>16500</td>\n    </tr>\n    <tr>\n      <th>2</th>\n      <td>2</td>\n      <td>?</td>\n      <td>alfa-romero</td>\n      <td>gas</td>\n      <td>std</td>\n      <td>two</td>\n      <td>hatchback</td>\n      <td>rwd</td>\n      <td>front</td>\n      <td>94.5</td>\n      <td>...</td>\n      <td>152</td>\n      <td>mpfi</td>\n      <td>2.68</td>\n      <td>3.47</td>\n      <td>9.0</td>\n      <td>154</td>\n      <td>5000</td>\n      <td>19</td>\n      <td>26</td>\n      <td>16500</td>\n    </tr>\n    <tr>\n      <th>3</th>\n      <td>3</td>\n      <td>164</td>\n      <td>audi</td>\n      <td>gas</td>\n      <td>std</td>\n      <td>four</td>\n      <td>sedan</td>\n      <td>fwd</td>\n      <td>front</td>\n      <td>99.8</td>\n      <td>...</td>\n      <td>109</td>\n      <td>mpfi</td>\n      <td>3.19</td>\n      <td>3.4</td>\n      <td>10.0</td>\n      <td>102</td>\n      <td>5500</td>\n      <td>24</td>\n      <td>30</td>\n      <td>13950</td>\n    </tr>\n    <tr>\n      <th>4</th>\n      <td>3</td>\n      <td>164</td>\n      <td>audi</td>\n      <td>gas</td>\n      <td>std</td>\n      <td>four</td>\n      <td>sedan</td>\n      <td>4wd</td>\n      <td>front</td>\n      <td>99.4</td>\n      <td>...</td>\n      <td>136</td>\n      <td>mpfi</td>\n      <td>3.19</td>\n      <td>3.4</td>\n      <td>8.0</td>\n      <td>115</td>\n      <td>5500</td>\n      <td>18</td>\n      <td>22</td>\n      <td>17450</td>\n    </tr>\n  </tbody>\n</table>\n<p>5 rows \u00d7 26 columns</p>\n</div>", 
                        "text/plain": "   symboling normalized-losses         make fuel-type aspiration num-of-doors  \\\n0          4                 ?  alfa-romero       gas        std          two   \n1          4                 ?  alfa-romero       gas        std          two   \n2          2                 ?  alfa-romero       gas        std          two   \n3          3               164         audi       gas        std         four   \n4          3               164         audi       gas        std         four   \n\n    body-style drive-wheels engine-location  wheel-base  ...    engine-size  \\\n0  convertible          rwd           front        88.6  ...            130   \n1  convertible          rwd           front        88.6  ...            130   \n2    hatchback          rwd           front        94.5  ...            152   \n3        sedan          fwd           front        99.8  ...            109   \n4        sedan          4wd           front        99.4  ...            136   \n\n   fuel-system  bore  stroke compression-ratio horsepower  peak-rpm city-mpg  \\\n0         mpfi  3.47    2.68               9.0        111      5000       21   \n1         mpfi  3.47    2.68               9.0        111      5000       21   \n2         mpfi  2.68    3.47               9.0        154      5000       19   \n3         mpfi  3.19     3.4              10.0        102      5500       24   \n4         mpfi  3.19     3.4               8.0        115      5500       18   \n\n  highway-mpg  price  \n0          27  13495  \n1          27  16500  \n2          26  16500  \n3          30  13950  \n4          22  17450  \n\n[5 rows x 26 columns]"
                    }, 
                    "output_type": "execute_result"
                }
            ], 
            "source": "CarData['symboling'] = CarData['symboling'] + 1\nCarData.head()\n# each data of sumboling is increased by +1"
        }, 
        {
            "source": "# Strategies with the problems of missing values !", 
            "cell_type": "markdown", 
            "metadata": {}
        }, 
        {
            "source": "### Strategy 1\n#### Drop the missing Values\n#####  a. Drop the Variables\n#####  b. Drop the data entry\n\n### Strategy 2\n#### Replace the missing value\n##### a. Replace it with the average \n##### b. Replace it with the frequency (Mode, usually done with catagorical datapoints.)\n##### c. Replace it based on some function\n\n### Strategy 3\n#### Leave it missing !", 
            "cell_type": "markdown", 
            "metadata": {}
        }, 
        {
            "execution_count": 4, 
            "cell_type": "code", 
            "metadata": {}, 
            "outputs": [], 
            "source": "# droping the missing value can be done by using panda built in function .dropna(), we need to specify axis. axis = 0 is row, axis = 1 is columns. \nCarData.dropna(subset=['price'], axis = 0, inplace = True )"
        }, 
        {
            "execution_count": 5, 
            "cell_type": "code", 
            "metadata": {}, 
            "outputs": [
                {
                    "execution_count": 5, 
                    "metadata": {}, 
                    "data": {
                        "text/html": "<div>\n<style scoped>\n    .dataframe tbody tr th:only-of-type {\n        vertical-align: middle;\n    }\n\n    .dataframe tbody tr th {\n        vertical-align: top;\n    }\n\n    .dataframe thead th {\n        text-align: right;\n    }\n</style>\n<table border=\"1\" class=\"dataframe\">\n  <thead>\n    <tr style=\"text-align: right;\">\n      <th></th>\n      <th>symboling</th>\n      <th>normalized-losses</th>\n      <th>make</th>\n      <th>fuel-type</th>\n      <th>aspiration</th>\n      <th>num-of-doors</th>\n      <th>body-style</th>\n      <th>drive-wheels</th>\n      <th>engine-location</th>\n      <th>wheel-base</th>\n      <th>...</th>\n      <th>engine-size</th>\n      <th>fuel-system</th>\n      <th>bore</th>\n      <th>stroke</th>\n      <th>compression-ratio</th>\n      <th>horsepower</th>\n      <th>peak-rpm</th>\n      <th>city-mpg</th>\n      <th>highway-mpg</th>\n      <th>price</th>\n    </tr>\n  </thead>\n  <tbody>\n    <tr>\n      <th>0</th>\n      <td>4</td>\n      <td>?</td>\n      <td>alfa-romero</td>\n      <td>gas</td>\n      <td>std</td>\n      <td>two</td>\n      <td>convertible</td>\n      <td>rwd</td>\n      <td>front</td>\n      <td>88.6</td>\n      <td>...</td>\n      <td>130</td>\n      <td>mpfi</td>\n      <td>3.47</td>\n      <td>2.68</td>\n      <td>9.0</td>\n      <td>111</td>\n      <td>5000</td>\n      <td>21</td>\n      <td>27</td>\n      <td>13495</td>\n    </tr>\n    <tr>\n      <th>1</th>\n      <td>4</td>\n      <td>?</td>\n      <td>alfa-romero</td>\n      <td>gas</td>\n      <td>std</td>\n      <td>two</td>\n      <td>convertible</td>\n      <td>rwd</td>\n      <td>front</td>\n      <td>88.6</td>\n      <td>...</td>\n      <td>130</td>\n      <td>mpfi</td>\n      <td>3.47</td>\n      <td>2.68</td>\n      <td>9.0</td>\n      <td>111</td>\n      <td>5000</td>\n      <td>21</td>\n      <td>27</td>\n      <td>16500</td>\n    </tr>\n    <tr>\n      <th>2</th>\n      <td>2</td>\n      <td>?</td>\n      <td>alfa-romero</td>\n      <td>gas</td>\n      <td>std</td>\n      <td>two</td>\n      <td>hatchback</td>\n      <td>rwd</td>\n      <td>front</td>\n      <td>94.5</td>\n      <td>...</td>\n      <td>152</td>\n      <td>mpfi</td>\n      <td>2.68</td>\n      <td>3.47</td>\n      <td>9.0</td>\n      <td>154</td>\n      <td>5000</td>\n      <td>19</td>\n      <td>26</td>\n      <td>16500</td>\n    </tr>\n    <tr>\n      <th>3</th>\n      <td>3</td>\n      <td>164</td>\n      <td>audi</td>\n      <td>gas</td>\n      <td>std</td>\n      <td>four</td>\n      <td>sedan</td>\n      <td>fwd</td>\n      <td>front</td>\n      <td>99.8</td>\n      <td>...</td>\n      <td>109</td>\n      <td>mpfi</td>\n      <td>3.19</td>\n      <td>3.4</td>\n      <td>10.0</td>\n      <td>102</td>\n      <td>5500</td>\n      <td>24</td>\n      <td>30</td>\n      <td>13950</td>\n    </tr>\n    <tr>\n      <th>4</th>\n      <td>3</td>\n      <td>164</td>\n      <td>audi</td>\n      <td>gas</td>\n      <td>std</td>\n      <td>four</td>\n      <td>sedan</td>\n      <td>4wd</td>\n      <td>front</td>\n      <td>99.4</td>\n      <td>...</td>\n      <td>136</td>\n      <td>mpfi</td>\n      <td>3.19</td>\n      <td>3.4</td>\n      <td>8.0</td>\n      <td>115</td>\n      <td>5500</td>\n      <td>18</td>\n      <td>22</td>\n      <td>17450</td>\n    </tr>\n    <tr>\n      <th>5</th>\n      <td>3</td>\n      <td>?</td>\n      <td>audi</td>\n      <td>gas</td>\n      <td>std</td>\n      <td>two</td>\n      <td>sedan</td>\n      <td>fwd</td>\n      <td>front</td>\n      <td>99.8</td>\n      <td>...</td>\n      <td>136</td>\n      <td>mpfi</td>\n      <td>3.19</td>\n      <td>3.4</td>\n      <td>8.5</td>\n      <td>110</td>\n      <td>5500</td>\n      <td>19</td>\n      <td>25</td>\n      <td>15250</td>\n    </tr>\n    <tr>\n      <th>6</th>\n      <td>2</td>\n      <td>158</td>\n      <td>audi</td>\n      <td>gas</td>\n      <td>std</td>\n      <td>four</td>\n      <td>sedan</td>\n      <td>fwd</td>\n      <td>front</td>\n      <td>105.8</td>\n      <td>...</td>\n      <td>136</td>\n      <td>mpfi</td>\n      <td>3.19</td>\n      <td>3.4</td>\n      <td>8.5</td>\n      <td>110</td>\n      <td>5500</td>\n      <td>19</td>\n      <td>25</td>\n      <td>17710</td>\n    </tr>\n    <tr>\n      <th>7</th>\n      <td>2</td>\n      <td>?</td>\n      <td>audi</td>\n      <td>gas</td>\n      <td>std</td>\n      <td>four</td>\n      <td>wagon</td>\n      <td>fwd</td>\n      <td>front</td>\n      <td>105.8</td>\n      <td>...</td>\n      <td>136</td>\n      <td>mpfi</td>\n      <td>3.19</td>\n      <td>3.4</td>\n      <td>8.5</td>\n      <td>110</td>\n      <td>5500</td>\n      <td>19</td>\n      <td>25</td>\n      <td>18920</td>\n    </tr>\n    <tr>\n      <th>8</th>\n      <td>2</td>\n      <td>158</td>\n      <td>audi</td>\n      <td>gas</td>\n      <td>turbo</td>\n      <td>four</td>\n      <td>sedan</td>\n      <td>fwd</td>\n      <td>front</td>\n      <td>105.8</td>\n      <td>...</td>\n      <td>131</td>\n      <td>mpfi</td>\n      <td>3.13</td>\n      <td>3.4</td>\n      <td>8.3</td>\n      <td>140</td>\n      <td>5500</td>\n      <td>17</td>\n      <td>20</td>\n      <td>23875</td>\n    </tr>\n    <tr>\n      <th>9</th>\n      <td>1</td>\n      <td>?</td>\n      <td>audi</td>\n      <td>gas</td>\n      <td>turbo</td>\n      <td>two</td>\n      <td>hatchback</td>\n      <td>4wd</td>\n      <td>front</td>\n      <td>99.5</td>\n      <td>...</td>\n      <td>131</td>\n      <td>mpfi</td>\n      <td>3.13</td>\n      <td>3.4</td>\n      <td>7.0</td>\n      <td>160</td>\n      <td>5500</td>\n      <td>16</td>\n      <td>22</td>\n      <td>?</td>\n    </tr>\n  </tbody>\n</table>\n<p>10 rows \u00d7 26 columns</p>\n</div>", 
                        "text/plain": "   symboling normalized-losses         make fuel-type aspiration num-of-doors  \\\n0          4                 ?  alfa-romero       gas        std          two   \n1          4                 ?  alfa-romero       gas        std          two   \n2          2                 ?  alfa-romero       gas        std          two   \n3          3               164         audi       gas        std         four   \n4          3               164         audi       gas        std         four   \n5          3                 ?         audi       gas        std          two   \n6          2               158         audi       gas        std         four   \n7          2                 ?         audi       gas        std         four   \n8          2               158         audi       gas      turbo         four   \n9          1                 ?         audi       gas      turbo          two   \n\n    body-style drive-wheels engine-location  wheel-base  ...    engine-size  \\\n0  convertible          rwd           front        88.6  ...            130   \n1  convertible          rwd           front        88.6  ...            130   \n2    hatchback          rwd           front        94.5  ...            152   \n3        sedan          fwd           front        99.8  ...            109   \n4        sedan          4wd           front        99.4  ...            136   \n5        sedan          fwd           front        99.8  ...            136   \n6        sedan          fwd           front       105.8  ...            136   \n7        wagon          fwd           front       105.8  ...            136   \n8        sedan          fwd           front       105.8  ...            131   \n9    hatchback          4wd           front        99.5  ...            131   \n\n   fuel-system  bore  stroke compression-ratio horsepower  peak-rpm city-mpg  \\\n0         mpfi  3.47    2.68               9.0        111      5000       21   \n1         mpfi  3.47    2.68               9.0        111      5000       21   \n2         mpfi  2.68    3.47               9.0        154      5000       19   \n3         mpfi  3.19     3.4              10.0        102      5500       24   \n4         mpfi  3.19     3.4               8.0        115      5500       18   \n5         mpfi  3.19     3.4               8.5        110      5500       19   \n6         mpfi  3.19     3.4               8.5        110      5500       19   \n7         mpfi  3.19     3.4               8.5        110      5500       19   \n8         mpfi  3.13     3.4               8.3        140      5500       17   \n9         mpfi  3.13     3.4               7.0        160      5500       16   \n\n  highway-mpg  price  \n0          27  13495  \n1          27  16500  \n2          26  16500  \n3          30  13950  \n4          22  17450  \n5          25  15250  \n6          25  17710  \n7          25  18920  \n8          20  23875  \n9          22      ?  \n\n[10 rows x 26 columns]"
                    }, 
                    "output_type": "execute_result"
                }
            ], 
            "source": "CarData.head(10)"
        }, 
        {
            "source": "# Converting datatype from object to integer", 
            "cell_type": "markdown", 
            "metadata": {}
        }, 
        {
            "execution_count": 6, 
            "cell_type": "code", 
            "metadata": {}, 
            "outputs": [
                {
                    "execution_count": 6, 
                    "metadata": {}, 
                    "data": {
                        "text/plain": "dtype('O')"
                    }, 
                    "output_type": "execute_result"
                }
            ], 
            "source": "CarData['normalized-losses'].dtype"
        }, 
        {
            "execution_count": 7, 
            "cell_type": "code", 
            "metadata": {}, 
            "outputs": [
                {
                    "execution_count": 7, 
                    "metadata": {}, 
                    "data": {
                        "text/plain": "0    nan\n1    nan\nName: normalized-losses, dtype: object"
                    }, 
                    "output_type": "execute_result"
                }
            ], 
            "source": "CarData['normalized-losses'] = CarData['normalized-losses'].replace('?', 'nan')\nCarData['normalized-losses'].head(2)"
        }, 
        {
            "execution_count": 8, 
            "cell_type": "code", 
            "metadata": {}, 
            "outputs": [], 
            "source": "CarData['normalized-losses'] = CarData['normalized-losses'].astype('float' )"
        }, 
        {
            "source": "## To replace missing value with actual value .replace (missing_value , new_value) function can be used.", 
            "cell_type": "markdown", 
            "metadata": {}
        }, 
        {
            "execution_count": 9, 
            "cell_type": "code", 
            "metadata": {}, 
            "outputs": [
                {
                    "execution_count": 9, 
                    "metadata": {}, 
                    "data": {
                        "text/plain": "122.0"
                    }, 
                    "output_type": "execute_result"
                }
            ], 
            "source": "mean_normalized_loss = CarData['normalized-losses'].mean()\nmean_normalized_loss"
        }, 
        {
            "execution_count": 10, 
            "cell_type": "code", 
            "metadata": {}, 
            "outputs": [], 
            "source": "CarData['normalized-losses'] = CarData['normalized-losses'].replace(np.nan, mean_normalized_loss)"
        }, 
        {
            "execution_count": 11, 
            "cell_type": "code", 
            "metadata": {}, 
            "outputs": [
                {
                    "execution_count": 11, 
                    "metadata": {}, 
                    "data": {
                        "text/plain": "0    122.0\n1    122.0\n2    122.0\n3    164.0\n4    164.0\nName: normalized-losses, dtype: float64"
                    }, 
                    "output_type": "execute_result"
                }
            ], 
            "source": "CarData['normalized-losses'].head()"
        }, 
        {
            "source": "## Converting city-mpg into L/100 km by using formulae , 235/mpg and renaming the column", 
            "cell_type": "markdown", 
            "metadata": {}
        }, 
        {
            "execution_count": 12, 
            "cell_type": "code", 
            "metadata": {}, 
            "outputs": [], 
            "source": "CarData['city-mpg'] = 235/CarData['city-mpg']\nCarData.rename(columns ={'city-mpg':'city-L/100km'}, inplace = True)\n"
        }, 
        {
            "source": "### to identify data types .dtypes() function is used\n### to convert from one datatype to another dataframe.astype()is used\n### eg. CarData['price'] = CarData['price'].astype('float')", 
            "cell_type": "markdown", 
            "metadata": {}
        }, 
        {
            "execution_count": 13, 
            "cell_type": "code", 
            "metadata": {}, 
            "outputs": [
                {
                    "execution_count": 13, 
                    "metadata": {}, 
                    "data": {
                        "text/plain": "dtype('O')"
                    }, 
                    "output_type": "execute_result"
                }
            ], 
            "source": "CarData['price'].dtype"
        }, 
        {
            "execution_count": 14, 
            "cell_type": "code", 
            "metadata": {}, 
            "outputs": [], 
            "source": "CarData['price'] = CarData['price'].replace('?', np.nan)"
        }, 
        {
            "execution_count": 15, 
            "cell_type": "code", 
            "metadata": {}, 
            "outputs": [], 
            "source": "CarData['price'] = CarData['price'].astype('float')"
        }, 
        {
            "execution_count": 16, 
            "cell_type": "code", 
            "metadata": {}, 
            "outputs": [
                {
                    "execution_count": 16, 
                    "metadata": {}, 
                    "data": {
                        "text/plain": "0    13495.0\n1    16500.0\n2    16500.0\n3    13950.0\n4    17450.0\n5    15250.0\n6    17710.0\n7    18920.0\n8    23875.0\n9        NaN\nName: price, dtype: float64"
                    }, 
                    "output_type": "execute_result"
                }
            ], 
            "source": "CarData['price'].head(10)"
        }, 
        {
            "execution_count": 17, 
            "cell_type": "code", 
            "metadata": {}, 
            "outputs": [], 
            "source": "CarData['price'] = CarData['price'].replace(np.nan, CarData['price'].mean())"
        }, 
        {
            "execution_count": 18, 
            "cell_type": "code", 
            "metadata": {}, 
            "outputs": [
                {
                    "execution_count": 18, 
                    "metadata": {}, 
                    "data": {
                        "text/plain": "0    13495.000000\n1    16500.000000\n2    16500.000000\n3    13950.000000\n4    17450.000000\n5    15250.000000\n6    17710.000000\n7    18920.000000\n8    23875.000000\n9    13207.129353\nName: price, dtype: float64"
                    }, 
                    "output_type": "execute_result"
                }
            ], 
            "source": "CarData['price'].head(10)"
        }, 
        {
            "execution_count": 19, 
            "cell_type": "code", 
            "metadata": {}, 
            "outputs": [], 
            "source": "CarData['price'] = CarData['price'].astype('int')"
        }, 
        {
            "execution_count": 20, 
            "cell_type": "code", 
            "metadata": {}, 
            "outputs": [
                {
                    "execution_count": 20, 
                    "metadata": {}, 
                    "data": {
                        "text/plain": "dtype('int64')"
                    }, 
                    "output_type": "execute_result"
                }
            ], 
            "source": "CarData['price'].dtype"
        }, 
        {
            "source": "### Data Normalization\n##### Uniform the feature value with different range.", 
            "cell_type": "markdown", 
            "metadata": {}
        }, 
        {
            "source": "## Three methods of Normalization\n### 1. Simple Feature Scaling : X_new = X_old / X_max. Range between 0 and 1\n### 2. Min-Max : X_new = (X_old - X_min) / (X_max - X_min). Range between 0 and 1\n### 3. Z-score : X_new = (X_old - mu) / sigma : typically range between -3 to 3 but can be higher or lower . (mu is mean , sigma is standard deviation.)\n", 
            "cell_type": "markdown", 
            "metadata": {}
        }, 
        {
            "execution_count": 21, 
            "cell_type": "code", 
            "metadata": {}, 
            "outputs": [
                {
                    "execution_count": 21, 
                    "metadata": {}, 
                    "data": {
                        "text/html": "<div>\n<style scoped>\n    .dataframe tbody tr th:only-of-type {\n        vertical-align: middle;\n    }\n\n    .dataframe tbody tr th {\n        vertical-align: top;\n    }\n\n    .dataframe thead th {\n        text-align: right;\n    }\n</style>\n<table border=\"1\" class=\"dataframe\">\n  <thead>\n    <tr style=\"text-align: right;\">\n      <th></th>\n      <th>length</th>\n      <th>width</th>\n      <th>height</th>\n    </tr>\n  </thead>\n  <tbody>\n    <tr>\n      <th>0</th>\n      <td>168.8</td>\n      <td>64.1</td>\n      <td>48.8</td>\n    </tr>\n    <tr>\n      <th>1</th>\n      <td>168.8</td>\n      <td>64.1</td>\n      <td>48.8</td>\n    </tr>\n    <tr>\n      <th>2</th>\n      <td>171.2</td>\n      <td>65.5</td>\n      <td>52.4</td>\n    </tr>\n    <tr>\n      <th>3</th>\n      <td>176.6</td>\n      <td>66.2</td>\n      <td>54.3</td>\n    </tr>\n    <tr>\n      <th>4</th>\n      <td>176.6</td>\n      <td>66.4</td>\n      <td>54.3</td>\n    </tr>\n  </tbody>\n</table>\n</div>", 
                        "text/plain": "   length  width  height\n0   168.8   64.1    48.8\n1   168.8   64.1    48.8\n2   171.2   65.5    52.4\n3   176.6   66.2    54.3\n4   176.6   66.4    54.3"
                    }, 
                    "output_type": "execute_result"
                }
            ], 
            "source": "# from CarData dataframe we will apply normalization feature on length , width and height columns\nCarData[['length','width','height']].head()"
        }, 
        {
            "source": "##### On 'length' we will apply Simple feature scaling", 
            "cell_type": "markdown", 
            "metadata": {}
        }, 
        {
            "execution_count": 22, 
            "cell_type": "code", 
            "metadata": {}, 
            "outputs": [
                {
                    "execution_count": 22, 
                    "metadata": {}, 
                    "data": {
                        "text/plain": "0    0.811148\n1    0.811148\n2    0.822681\n3    0.848630\n4    0.848630\nName: length, dtype: float64"
                    }, 
                    "output_type": "execute_result"
                }
            ], 
            "source": "CarData['length'] = CarData['length'] / CarData['length'].max() \nCarData['length'].head()"
        }, 
        {
            "source": "##### On 'width' we will apply min-max normalization", 
            "cell_type": "markdown", 
            "metadata": {}
        }, 
        {
            "execution_count": 23, 
            "cell_type": "code", 
            "metadata": {}, 
            "outputs": [
                {
                    "execution_count": 23, 
                    "metadata": {}, 
                    "data": {
                        "text/plain": "0    0.316667\n1    0.316667\n2    0.433333\n3    0.491667\n4    0.508333\nName: width, dtype: float64"
                    }, 
                    "output_type": "execute_result"
                }
            ], 
            "source": "CarData['width'] = (CarData['width']-CarData['width'].min())/(CarData['width'].max() - CarData['width'].min())\nCarData['width'].head()"
        }, 
        {
            "source": "##### On 'height' we will apply z-score normalization", 
            "cell_type": "markdown", 
            "metadata": {}
        }, 
        {
            "execution_count": 24, 
            "cell_type": "code", 
            "metadata": {}, 
            "outputs": [
                {
                    "execution_count": 24, 
                    "metadata": {}, 
                    "data": {
                        "text/plain": "0   -2.015483\n1   -2.015483\n2   -0.542200\n3    0.235366\n4    0.235366\nName: height, dtype: float64"
                    }, 
                    "output_type": "execute_result"
                }
            ], 
            "source": "CarData['height'] = (CarData['height'] -CarData['height'].mean())/CarData['height'].std() \nCarData['height'].head()"
        }, 
        {
            "source": "## Binning is to group values into Bins", 
            "cell_type": "markdown", 
            "metadata": {}
        }, 
        {
            "source": "##### Grouping a set of numerical value into set of bins", 
            "cell_type": "markdown", 
            "metadata": {}
        }, 
        {
            "source": "##### We will bin the price into 3 groups , Low , Medium and High price", 
            "cell_type": "markdown", 
            "metadata": {}
        }, 
        {
            "execution_count": 25, 
            "cell_type": "code", 
            "metadata": {}, 
            "outputs": [
                {
                    "output_type": "stream", 
                    "name": "stdout", 
                    "text": "5118\n45400\n"
                }
            ], 
            "source": "# Let's find range of price\nprint(CarData['price'].min())\nprint(CarData['price'].max())"
        }, 
        {
            "execution_count": 26, 
            "cell_type": "code", 
            "metadata": {}, 
            "outputs": [
                {
                    "execution_count": 26, 
                    "metadata": {}, 
                    "data": {
                        "text/html": "<div>\n<style scoped>\n    .dataframe tbody tr th:only-of-type {\n        vertical-align: middle;\n    }\n\n    .dataframe tbody tr th {\n        vertical-align: top;\n    }\n\n    .dataframe thead th {\n        text-align: right;\n    }\n</style>\n<table border=\"1\" class=\"dataframe\">\n  <thead>\n    <tr style=\"text-align: right;\">\n      <th></th>\n      <th>symboling</th>\n      <th>normalized-losses</th>\n      <th>make</th>\n      <th>fuel-type</th>\n      <th>aspiration</th>\n      <th>num-of-doors</th>\n      <th>body-style</th>\n      <th>drive-wheels</th>\n      <th>engine-location</th>\n      <th>wheel-base</th>\n      <th>...</th>\n      <th>engine-size</th>\n      <th>fuel-system</th>\n      <th>bore</th>\n      <th>stroke</th>\n      <th>compression-ratio</th>\n      <th>horsepower</th>\n      <th>peak-rpm</th>\n      <th>city-L/100km</th>\n      <th>highway-mpg</th>\n      <th>price</th>\n    </tr>\n  </thead>\n  <tbody>\n    <tr>\n      <th>0</th>\n      <td>4</td>\n      <td>122.0</td>\n      <td>alfa-romero</td>\n      <td>gas</td>\n      <td>std</td>\n      <td>two</td>\n      <td>convertible</td>\n      <td>rwd</td>\n      <td>front</td>\n      <td>88.6</td>\n      <td>...</td>\n      <td>130</td>\n      <td>mpfi</td>\n      <td>3.47</td>\n      <td>2.68</td>\n      <td>9.00</td>\n      <td>111</td>\n      <td>5000</td>\n      <td>11.190476</td>\n      <td>27</td>\n      <td>13495</td>\n    </tr>\n    <tr>\n      <th>1</th>\n      <td>4</td>\n      <td>122.0</td>\n      <td>alfa-romero</td>\n      <td>gas</td>\n      <td>std</td>\n      <td>two</td>\n      <td>convertible</td>\n      <td>rwd</td>\n      <td>front</td>\n      <td>88.6</td>\n      <td>...</td>\n      <td>130</td>\n      <td>mpfi</td>\n      <td>3.47</td>\n      <td>2.68</td>\n      <td>9.00</td>\n      <td>111</td>\n      <td>5000</td>\n      <td>11.190476</td>\n      <td>27</td>\n      <td>16500</td>\n    </tr>\n    <tr>\n      <th>2</th>\n      <td>2</td>\n      <td>122.0</td>\n      <td>alfa-romero</td>\n      <td>gas</td>\n      <td>std</td>\n      <td>two</td>\n      <td>hatchback</td>\n      <td>rwd</td>\n      <td>front</td>\n      <td>94.5</td>\n      <td>...</td>\n      <td>152</td>\n      <td>mpfi</td>\n      <td>2.68</td>\n      <td>3.47</td>\n      <td>9.00</td>\n      <td>154</td>\n      <td>5000</td>\n      <td>12.368421</td>\n      <td>26</td>\n      <td>16500</td>\n    </tr>\n    <tr>\n      <th>3</th>\n      <td>3</td>\n      <td>164.0</td>\n      <td>audi</td>\n      <td>gas</td>\n      <td>std</td>\n      <td>four</td>\n      <td>sedan</td>\n      <td>fwd</td>\n      <td>front</td>\n      <td>99.8</td>\n      <td>...</td>\n      <td>109</td>\n      <td>mpfi</td>\n      <td>3.19</td>\n      <td>3.4</td>\n      <td>10.00</td>\n      <td>102</td>\n      <td>5500</td>\n      <td>9.791667</td>\n      <td>30</td>\n      <td>13950</td>\n    </tr>\n    <tr>\n      <th>4</th>\n      <td>3</td>\n      <td>164.0</td>\n      <td>audi</td>\n      <td>gas</td>\n      <td>std</td>\n      <td>four</td>\n      <td>sedan</td>\n      <td>4wd</td>\n      <td>front</td>\n      <td>99.4</td>\n      <td>...</td>\n      <td>136</td>\n      <td>mpfi</td>\n      <td>3.19</td>\n      <td>3.4</td>\n      <td>8.00</td>\n      <td>115</td>\n      <td>5500</td>\n      <td>13.055556</td>\n      <td>22</td>\n      <td>17450</td>\n    </tr>\n    <tr>\n      <th>5</th>\n      <td>3</td>\n      <td>122.0</td>\n      <td>audi</td>\n      <td>gas</td>\n      <td>std</td>\n      <td>two</td>\n      <td>sedan</td>\n      <td>fwd</td>\n      <td>front</td>\n      <td>99.8</td>\n      <td>...</td>\n      <td>136</td>\n      <td>mpfi</td>\n      <td>3.19</td>\n      <td>3.4</td>\n      <td>8.50</td>\n      <td>110</td>\n      <td>5500</td>\n      <td>12.368421</td>\n      <td>25</td>\n      <td>15250</td>\n    </tr>\n    <tr>\n      <th>6</th>\n      <td>2</td>\n      <td>158.0</td>\n      <td>audi</td>\n      <td>gas</td>\n      <td>std</td>\n      <td>four</td>\n      <td>sedan</td>\n      <td>fwd</td>\n      <td>front</td>\n      <td>105.8</td>\n      <td>...</td>\n      <td>136</td>\n      <td>mpfi</td>\n      <td>3.19</td>\n      <td>3.4</td>\n      <td>8.50</td>\n      <td>110</td>\n      <td>5500</td>\n      <td>12.368421</td>\n      <td>25</td>\n      <td>17710</td>\n    </tr>\n    <tr>\n      <th>7</th>\n      <td>2</td>\n      <td>122.0</td>\n      <td>audi</td>\n      <td>gas</td>\n      <td>std</td>\n      <td>four</td>\n      <td>wagon</td>\n      <td>fwd</td>\n      <td>front</td>\n      <td>105.8</td>\n      <td>...</td>\n      <td>136</td>\n      <td>mpfi</td>\n      <td>3.19</td>\n      <td>3.4</td>\n      <td>8.50</td>\n      <td>110</td>\n      <td>5500</td>\n      <td>12.368421</td>\n      <td>25</td>\n      <td>18920</td>\n    </tr>\n    <tr>\n      <th>8</th>\n      <td>2</td>\n      <td>158.0</td>\n      <td>audi</td>\n      <td>gas</td>\n      <td>turbo</td>\n      <td>four</td>\n      <td>sedan</td>\n      <td>fwd</td>\n      <td>front</td>\n      <td>105.8</td>\n      <td>...</td>\n      <td>131</td>\n      <td>mpfi</td>\n      <td>3.13</td>\n      <td>3.4</td>\n      <td>8.30</td>\n      <td>140</td>\n      <td>5500</td>\n      <td>13.823529</td>\n      <td>20</td>\n      <td>23875</td>\n    </tr>\n    <tr>\n      <th>9</th>\n      <td>1</td>\n      <td>122.0</td>\n      <td>audi</td>\n      <td>gas</td>\n      <td>turbo</td>\n      <td>two</td>\n      <td>hatchback</td>\n      <td>4wd</td>\n      <td>front</td>\n      <td>99.5</td>\n      <td>...</td>\n      <td>131</td>\n      <td>mpfi</td>\n      <td>3.13</td>\n      <td>3.4</td>\n      <td>7.00</td>\n      <td>160</td>\n      <td>5500</td>\n      <td>14.687500</td>\n      <td>22</td>\n      <td>13207</td>\n    </tr>\n    <tr>\n      <th>10</th>\n      <td>3</td>\n      <td>192.0</td>\n      <td>bmw</td>\n      <td>gas</td>\n      <td>std</td>\n      <td>two</td>\n      <td>sedan</td>\n      <td>rwd</td>\n      <td>front</td>\n      <td>101.2</td>\n      <td>...</td>\n      <td>108</td>\n      <td>mpfi</td>\n      <td>3.5</td>\n      <td>2.8</td>\n      <td>8.80</td>\n      <td>101</td>\n      <td>5800</td>\n      <td>10.217391</td>\n      <td>29</td>\n      <td>16430</td>\n    </tr>\n    <tr>\n      <th>11</th>\n      <td>1</td>\n      <td>192.0</td>\n      <td>bmw</td>\n      <td>gas</td>\n      <td>std</td>\n      <td>four</td>\n      <td>sedan</td>\n      <td>rwd</td>\n      <td>front</td>\n      <td>101.2</td>\n      <td>...</td>\n      <td>108</td>\n      <td>mpfi</td>\n      <td>3.5</td>\n      <td>2.8</td>\n      <td>8.80</td>\n      <td>101</td>\n      <td>5800</td>\n      <td>10.217391</td>\n      <td>29</td>\n      <td>16925</td>\n    </tr>\n    <tr>\n      <th>12</th>\n      <td>1</td>\n      <td>188.0</td>\n      <td>bmw</td>\n      <td>gas</td>\n      <td>std</td>\n      <td>two</td>\n      <td>sedan</td>\n      <td>rwd</td>\n      <td>front</td>\n      <td>101.2</td>\n      <td>...</td>\n      <td>164</td>\n      <td>mpfi</td>\n      <td>3.31</td>\n      <td>3.19</td>\n      <td>9.00</td>\n      <td>121</td>\n      <td>4250</td>\n      <td>11.190476</td>\n      <td>28</td>\n      <td>20970</td>\n    </tr>\n    <tr>\n      <th>13</th>\n      <td>1</td>\n      <td>188.0</td>\n      <td>bmw</td>\n      <td>gas</td>\n      <td>std</td>\n      <td>four</td>\n      <td>sedan</td>\n      <td>rwd</td>\n      <td>front</td>\n      <td>101.2</td>\n      <td>...</td>\n      <td>164</td>\n      <td>mpfi</td>\n      <td>3.31</td>\n      <td>3.19</td>\n      <td>9.00</td>\n      <td>121</td>\n      <td>4250</td>\n      <td>11.190476</td>\n      <td>28</td>\n      <td>21105</td>\n    </tr>\n    <tr>\n      <th>14</th>\n      <td>2</td>\n      <td>122.0</td>\n      <td>bmw</td>\n      <td>gas</td>\n      <td>std</td>\n      <td>four</td>\n      <td>sedan</td>\n      <td>rwd</td>\n      <td>front</td>\n      <td>103.5</td>\n      <td>...</td>\n      <td>164</td>\n      <td>mpfi</td>\n      <td>3.31</td>\n      <td>3.19</td>\n      <td>9.00</td>\n      <td>121</td>\n      <td>4250</td>\n      <td>11.750000</td>\n      <td>25</td>\n      <td>24565</td>\n    </tr>\n    <tr>\n      <th>15</th>\n      <td>1</td>\n      <td>122.0</td>\n      <td>bmw</td>\n      <td>gas</td>\n      <td>std</td>\n      <td>four</td>\n      <td>sedan</td>\n      <td>rwd</td>\n      <td>front</td>\n      <td>103.5</td>\n      <td>...</td>\n      <td>209</td>\n      <td>mpfi</td>\n      <td>3.62</td>\n      <td>3.39</td>\n      <td>8.00</td>\n      <td>182</td>\n      <td>5400</td>\n      <td>14.687500</td>\n      <td>22</td>\n      <td>30760</td>\n    </tr>\n    <tr>\n      <th>16</th>\n      <td>1</td>\n      <td>122.0</td>\n      <td>bmw</td>\n      <td>gas</td>\n      <td>std</td>\n      <td>two</td>\n      <td>sedan</td>\n      <td>rwd</td>\n      <td>front</td>\n      <td>103.5</td>\n      <td>...</td>\n      <td>209</td>\n      <td>mpfi</td>\n      <td>3.62</td>\n      <td>3.39</td>\n      <td>8.00</td>\n      <td>182</td>\n      <td>5400</td>\n      <td>14.687500</td>\n      <td>22</td>\n      <td>41315</td>\n    </tr>\n    <tr>\n      <th>17</th>\n      <td>1</td>\n      <td>122.0</td>\n      <td>bmw</td>\n      <td>gas</td>\n      <td>std</td>\n      <td>four</td>\n      <td>sedan</td>\n      <td>rwd</td>\n      <td>front</td>\n      <td>110.0</td>\n      <td>...</td>\n      <td>209</td>\n      <td>mpfi</td>\n      <td>3.62</td>\n      <td>3.39</td>\n      <td>8.00</td>\n      <td>182</td>\n      <td>5400</td>\n      <td>15.666667</td>\n      <td>20</td>\n      <td>36880</td>\n    </tr>\n    <tr>\n      <th>18</th>\n      <td>3</td>\n      <td>121.0</td>\n      <td>chevrolet</td>\n      <td>gas</td>\n      <td>std</td>\n      <td>two</td>\n      <td>hatchback</td>\n      <td>fwd</td>\n      <td>front</td>\n      <td>88.4</td>\n      <td>...</td>\n      <td>61</td>\n      <td>2bbl</td>\n      <td>2.91</td>\n      <td>3.03</td>\n      <td>9.50</td>\n      <td>48</td>\n      <td>5100</td>\n      <td>5.000000</td>\n      <td>53</td>\n      <td>5151</td>\n    </tr>\n    <tr>\n      <th>19</th>\n      <td>2</td>\n      <td>98.0</td>\n      <td>chevrolet</td>\n      <td>gas</td>\n      <td>std</td>\n      <td>two</td>\n      <td>hatchback</td>\n      <td>fwd</td>\n      <td>front</td>\n      <td>94.5</td>\n      <td>...</td>\n      <td>90</td>\n      <td>2bbl</td>\n      <td>3.03</td>\n      <td>3.11</td>\n      <td>9.60</td>\n      <td>70</td>\n      <td>5400</td>\n      <td>6.184211</td>\n      <td>43</td>\n      <td>6295</td>\n    </tr>\n    <tr>\n      <th>20</th>\n      <td>1</td>\n      <td>81.0</td>\n      <td>chevrolet</td>\n      <td>gas</td>\n      <td>std</td>\n      <td>four</td>\n      <td>sedan</td>\n      <td>fwd</td>\n      <td>front</td>\n      <td>94.5</td>\n      <td>...</td>\n      <td>90</td>\n      <td>2bbl</td>\n      <td>3.03</td>\n      <td>3.11</td>\n      <td>9.60</td>\n      <td>70</td>\n      <td>5400</td>\n      <td>6.184211</td>\n      <td>43</td>\n      <td>6575</td>\n    </tr>\n    <tr>\n      <th>21</th>\n      <td>2</td>\n      <td>118.0</td>\n      <td>dodge</td>\n      <td>gas</td>\n      <td>std</td>\n      <td>two</td>\n      <td>hatchback</td>\n      <td>fwd</td>\n      <td>front</td>\n      <td>93.7</td>\n      <td>...</td>\n      <td>90</td>\n      <td>2bbl</td>\n      <td>2.97</td>\n      <td>3.23</td>\n      <td>9.41</td>\n      <td>68</td>\n      <td>5500</td>\n      <td>6.351351</td>\n      <td>41</td>\n      <td>5572</td>\n    </tr>\n    <tr>\n      <th>22</th>\n      <td>2</td>\n      <td>118.0</td>\n      <td>dodge</td>\n      <td>gas</td>\n      <td>std</td>\n      <td>two</td>\n      <td>hatchback</td>\n      <td>fwd</td>\n      <td>front</td>\n      <td>93.7</td>\n      <td>...</td>\n      <td>90</td>\n      <td>2bbl</td>\n      <td>2.97</td>\n      <td>3.23</td>\n      <td>9.40</td>\n      <td>68</td>\n      <td>5500</td>\n      <td>7.580645</td>\n      <td>38</td>\n      <td>6377</td>\n    </tr>\n    <tr>\n      <th>23</th>\n      <td>2</td>\n      <td>118.0</td>\n      <td>dodge</td>\n      <td>gas</td>\n      <td>turbo</td>\n      <td>two</td>\n      <td>hatchback</td>\n      <td>fwd</td>\n      <td>front</td>\n      <td>93.7</td>\n      <td>...</td>\n      <td>98</td>\n      <td>mpfi</td>\n      <td>3.03</td>\n      <td>3.39</td>\n      <td>7.60</td>\n      <td>102</td>\n      <td>5500</td>\n      <td>9.791667</td>\n      <td>30</td>\n      <td>7957</td>\n    </tr>\n    <tr>\n      <th>24</th>\n      <td>2</td>\n      <td>148.0</td>\n      <td>dodge</td>\n      <td>gas</td>\n      <td>std</td>\n      <td>four</td>\n      <td>hatchback</td>\n      <td>fwd</td>\n      <td>front</td>\n      <td>93.7</td>\n      <td>...</td>\n      <td>90</td>\n      <td>2bbl</td>\n      <td>2.97</td>\n      <td>3.23</td>\n      <td>9.40</td>\n      <td>68</td>\n      <td>5500</td>\n      <td>7.580645</td>\n      <td>38</td>\n      <td>6229</td>\n    </tr>\n    <tr>\n      <th>25</th>\n      <td>2</td>\n      <td>148.0</td>\n      <td>dodge</td>\n      <td>gas</td>\n      <td>std</td>\n      <td>four</td>\n      <td>sedan</td>\n      <td>fwd</td>\n      <td>front</td>\n      <td>93.7</td>\n      <td>...</td>\n      <td>90</td>\n      <td>2bbl</td>\n      <td>2.97</td>\n      <td>3.23</td>\n      <td>9.40</td>\n      <td>68</td>\n      <td>5500</td>\n      <td>7.580645</td>\n      <td>38</td>\n      <td>6692</td>\n    </tr>\n    <tr>\n      <th>26</th>\n      <td>2</td>\n      <td>148.0</td>\n      <td>dodge</td>\n      <td>gas</td>\n      <td>std</td>\n      <td>four</td>\n      <td>sedan</td>\n      <td>fwd</td>\n      <td>front</td>\n      <td>93.7</td>\n      <td>...</td>\n      <td>90</td>\n      <td>2bbl</td>\n      <td>2.97</td>\n      <td>3.23</td>\n      <td>9.40</td>\n      <td>68</td>\n      <td>5500</td>\n      <td>7.580645</td>\n      <td>38</td>\n      <td>7609</td>\n    </tr>\n    <tr>\n      <th>27</th>\n      <td>2</td>\n      <td>148.0</td>\n      <td>dodge</td>\n      <td>gas</td>\n      <td>turbo</td>\n      <td>?</td>\n      <td>sedan</td>\n      <td>fwd</td>\n      <td>front</td>\n      <td>93.7</td>\n      <td>...</td>\n      <td>98</td>\n      <td>mpfi</td>\n      <td>3.03</td>\n      <td>3.39</td>\n      <td>7.60</td>\n      <td>102</td>\n      <td>5500</td>\n      <td>9.791667</td>\n      <td>30</td>\n      <td>8558</td>\n    </tr>\n    <tr>\n      <th>28</th>\n      <td>0</td>\n      <td>110.0</td>\n      <td>dodge</td>\n      <td>gas</td>\n      <td>std</td>\n      <td>four</td>\n      <td>wagon</td>\n      <td>fwd</td>\n      <td>front</td>\n      <td>103.3</td>\n      <td>...</td>\n      <td>122</td>\n      <td>2bbl</td>\n      <td>3.34</td>\n      <td>3.46</td>\n      <td>8.50</td>\n      <td>88</td>\n      <td>5000</td>\n      <td>9.791667</td>\n      <td>30</td>\n      <td>8921</td>\n    </tr>\n    <tr>\n      <th>29</th>\n      <td>4</td>\n      <td>145.0</td>\n      <td>dodge</td>\n      <td>gas</td>\n      <td>turbo</td>\n      <td>two</td>\n      <td>hatchback</td>\n      <td>fwd</td>\n      <td>front</td>\n      <td>95.9</td>\n      <td>...</td>\n      <td>156</td>\n      <td>mfi</td>\n      <td>3.6</td>\n      <td>3.9</td>\n      <td>7.00</td>\n      <td>145</td>\n      <td>5000</td>\n      <td>12.368421</td>\n      <td>24</td>\n      <td>12964</td>\n    </tr>\n    <tr>\n      <th>...</th>\n      <td>...</td>\n      <td>...</td>\n      <td>...</td>\n      <td>...</td>\n      <td>...</td>\n      <td>...</td>\n      <td>...</td>\n      <td>...</td>\n      <td>...</td>\n      <td>...</td>\n      <td>...</td>\n      <td>...</td>\n      <td>...</td>\n      <td>...</td>\n      <td>...</td>\n      <td>...</td>\n      <td>...</td>\n      <td>...</td>\n      <td>...</td>\n      <td>...</td>\n      <td>...</td>\n    </tr>\n    <tr>\n      <th>175</th>\n      <td>0</td>\n      <td>65.0</td>\n      <td>toyota</td>\n      <td>gas</td>\n      <td>std</td>\n      <td>four</td>\n      <td>hatchback</td>\n      <td>fwd</td>\n      <td>front</td>\n      <td>102.4</td>\n      <td>...</td>\n      <td>122</td>\n      <td>mpfi</td>\n      <td>3.31</td>\n      <td>3.54</td>\n      <td>8.70</td>\n      <td>92</td>\n      <td>4200</td>\n      <td>8.703704</td>\n      <td>32</td>\n      <td>9988</td>\n    </tr>\n    <tr>\n      <th>176</th>\n      <td>0</td>\n      <td>65.0</td>\n      <td>toyota</td>\n      <td>gas</td>\n      <td>std</td>\n      <td>four</td>\n      <td>sedan</td>\n      <td>fwd</td>\n      <td>front</td>\n      <td>102.4</td>\n      <td>...</td>\n      <td>122</td>\n      <td>mpfi</td>\n      <td>3.31</td>\n      <td>3.54</td>\n      <td>8.70</td>\n      <td>92</td>\n      <td>4200</td>\n      <td>8.703704</td>\n      <td>32</td>\n      <td>10898</td>\n    </tr>\n    <tr>\n      <th>177</th>\n      <td>0</td>\n      <td>65.0</td>\n      <td>toyota</td>\n      <td>gas</td>\n      <td>std</td>\n      <td>four</td>\n      <td>hatchback</td>\n      <td>fwd</td>\n      <td>front</td>\n      <td>102.4</td>\n      <td>...</td>\n      <td>122</td>\n      <td>mpfi</td>\n      <td>3.31</td>\n      <td>3.54</td>\n      <td>8.70</td>\n      <td>92</td>\n      <td>4200</td>\n      <td>8.703704</td>\n      <td>32</td>\n      <td>11248</td>\n    </tr>\n    <tr>\n      <th>178</th>\n      <td>4</td>\n      <td>197.0</td>\n      <td>toyota</td>\n      <td>gas</td>\n      <td>std</td>\n      <td>two</td>\n      <td>hatchback</td>\n      <td>rwd</td>\n      <td>front</td>\n      <td>102.9</td>\n      <td>...</td>\n      <td>171</td>\n      <td>mpfi</td>\n      <td>3.27</td>\n      <td>3.35</td>\n      <td>9.30</td>\n      <td>161</td>\n      <td>5200</td>\n      <td>11.750000</td>\n      <td>24</td>\n      <td>16558</td>\n    </tr>\n    <tr>\n      <th>179</th>\n      <td>4</td>\n      <td>197.0</td>\n      <td>toyota</td>\n      <td>gas</td>\n      <td>std</td>\n      <td>two</td>\n      <td>hatchback</td>\n      <td>rwd</td>\n      <td>front</td>\n      <td>102.9</td>\n      <td>...</td>\n      <td>171</td>\n      <td>mpfi</td>\n      <td>3.27</td>\n      <td>3.35</td>\n      <td>9.30</td>\n      <td>161</td>\n      <td>5200</td>\n      <td>12.368421</td>\n      <td>24</td>\n      <td>15998</td>\n    </tr>\n    <tr>\n      <th>180</th>\n      <td>0</td>\n      <td>90.0</td>\n      <td>toyota</td>\n      <td>gas</td>\n      <td>std</td>\n      <td>four</td>\n      <td>sedan</td>\n      <td>rwd</td>\n      <td>front</td>\n      <td>104.5</td>\n      <td>...</td>\n      <td>171</td>\n      <td>mpfi</td>\n      <td>3.27</td>\n      <td>3.35</td>\n      <td>9.20</td>\n      <td>156</td>\n      <td>5200</td>\n      <td>11.750000</td>\n      <td>24</td>\n      <td>15690</td>\n    </tr>\n    <tr>\n      <th>181</th>\n      <td>0</td>\n      <td>122.0</td>\n      <td>toyota</td>\n      <td>gas</td>\n      <td>std</td>\n      <td>four</td>\n      <td>wagon</td>\n      <td>rwd</td>\n      <td>front</td>\n      <td>104.5</td>\n      <td>...</td>\n      <td>161</td>\n      <td>mpfi</td>\n      <td>3.27</td>\n      <td>3.35</td>\n      <td>9.20</td>\n      <td>156</td>\n      <td>5200</td>\n      <td>12.368421</td>\n      <td>24</td>\n      <td>15750</td>\n    </tr>\n    <tr>\n      <th>182</th>\n      <td>3</td>\n      <td>122.0</td>\n      <td>volkswagen</td>\n      <td>diesel</td>\n      <td>std</td>\n      <td>two</td>\n      <td>sedan</td>\n      <td>fwd</td>\n      <td>front</td>\n      <td>97.3</td>\n      <td>...</td>\n      <td>97</td>\n      <td>idi</td>\n      <td>3.01</td>\n      <td>3.4</td>\n      <td>23.00</td>\n      <td>52</td>\n      <td>4800</td>\n      <td>6.351351</td>\n      <td>46</td>\n      <td>7775</td>\n    </tr>\n    <tr>\n      <th>183</th>\n      <td>3</td>\n      <td>122.0</td>\n      <td>volkswagen</td>\n      <td>gas</td>\n      <td>std</td>\n      <td>two</td>\n      <td>sedan</td>\n      <td>fwd</td>\n      <td>front</td>\n      <td>97.3</td>\n      <td>...</td>\n      <td>109</td>\n      <td>mpfi</td>\n      <td>3.19</td>\n      <td>3.4</td>\n      <td>9.00</td>\n      <td>85</td>\n      <td>5250</td>\n      <td>8.703704</td>\n      <td>34</td>\n      <td>7975</td>\n    </tr>\n    <tr>\n      <th>184</th>\n      <td>3</td>\n      <td>94.0</td>\n      <td>volkswagen</td>\n      <td>diesel</td>\n      <td>std</td>\n      <td>four</td>\n      <td>sedan</td>\n      <td>fwd</td>\n      <td>front</td>\n      <td>97.3</td>\n      <td>...</td>\n      <td>97</td>\n      <td>idi</td>\n      <td>3.01</td>\n      <td>3.4</td>\n      <td>23.00</td>\n      <td>52</td>\n      <td>4800</td>\n      <td>6.351351</td>\n      <td>46</td>\n      <td>7995</td>\n    </tr>\n    <tr>\n      <th>185</th>\n      <td>3</td>\n      <td>94.0</td>\n      <td>volkswagen</td>\n      <td>gas</td>\n      <td>std</td>\n      <td>four</td>\n      <td>sedan</td>\n      <td>fwd</td>\n      <td>front</td>\n      <td>97.3</td>\n      <td>...</td>\n      <td>109</td>\n      <td>mpfi</td>\n      <td>3.19</td>\n      <td>3.4</td>\n      <td>9.00</td>\n      <td>85</td>\n      <td>5250</td>\n      <td>8.703704</td>\n      <td>34</td>\n      <td>8195</td>\n    </tr>\n    <tr>\n      <th>186</th>\n      <td>3</td>\n      <td>94.0</td>\n      <td>volkswagen</td>\n      <td>gas</td>\n      <td>std</td>\n      <td>four</td>\n      <td>sedan</td>\n      <td>fwd</td>\n      <td>front</td>\n      <td>97.3</td>\n      <td>...</td>\n      <td>109</td>\n      <td>mpfi</td>\n      <td>3.19</td>\n      <td>3.4</td>\n      <td>9.00</td>\n      <td>85</td>\n      <td>5250</td>\n      <td>8.703704</td>\n      <td>34</td>\n      <td>8495</td>\n    </tr>\n    <tr>\n      <th>187</th>\n      <td>3</td>\n      <td>94.0</td>\n      <td>volkswagen</td>\n      <td>diesel</td>\n      <td>turbo</td>\n      <td>four</td>\n      <td>sedan</td>\n      <td>fwd</td>\n      <td>front</td>\n      <td>97.3</td>\n      <td>...</td>\n      <td>97</td>\n      <td>idi</td>\n      <td>3.01</td>\n      <td>3.4</td>\n      <td>23.00</td>\n      <td>68</td>\n      <td>4500</td>\n      <td>6.351351</td>\n      <td>42</td>\n      <td>9495</td>\n    </tr>\n    <tr>\n      <th>188</th>\n      <td>3</td>\n      <td>94.0</td>\n      <td>volkswagen</td>\n      <td>gas</td>\n      <td>std</td>\n      <td>four</td>\n      <td>sedan</td>\n      <td>fwd</td>\n      <td>front</td>\n      <td>97.3</td>\n      <td>...</td>\n      <td>109</td>\n      <td>mpfi</td>\n      <td>3.19</td>\n      <td>3.4</td>\n      <td>10.00</td>\n      <td>100</td>\n      <td>5500</td>\n      <td>9.038462</td>\n      <td>32</td>\n      <td>9995</td>\n    </tr>\n    <tr>\n      <th>189</th>\n      <td>4</td>\n      <td>122.0</td>\n      <td>volkswagen</td>\n      <td>gas</td>\n      <td>std</td>\n      <td>two</td>\n      <td>convertible</td>\n      <td>fwd</td>\n      <td>front</td>\n      <td>94.5</td>\n      <td>...</td>\n      <td>109</td>\n      <td>mpfi</td>\n      <td>3.19</td>\n      <td>3.4</td>\n      <td>8.50</td>\n      <td>90</td>\n      <td>5500</td>\n      <td>9.791667</td>\n      <td>29</td>\n      <td>11595</td>\n    </tr>\n    <tr>\n      <th>190</th>\n      <td>4</td>\n      <td>256.0</td>\n      <td>volkswagen</td>\n      <td>gas</td>\n      <td>std</td>\n      <td>two</td>\n      <td>hatchback</td>\n      <td>fwd</td>\n      <td>front</td>\n      <td>94.5</td>\n      <td>...</td>\n      <td>109</td>\n      <td>mpfi</td>\n      <td>3.19</td>\n      <td>3.4</td>\n      <td>8.50</td>\n      <td>90</td>\n      <td>5500</td>\n      <td>9.791667</td>\n      <td>29</td>\n      <td>9980</td>\n    </tr>\n    <tr>\n      <th>191</th>\n      <td>1</td>\n      <td>122.0</td>\n      <td>volkswagen</td>\n      <td>gas</td>\n      <td>std</td>\n      <td>four</td>\n      <td>sedan</td>\n      <td>fwd</td>\n      <td>front</td>\n      <td>100.4</td>\n      <td>...</td>\n      <td>136</td>\n      <td>mpfi</td>\n      <td>3.19</td>\n      <td>3.4</td>\n      <td>8.50</td>\n      <td>110</td>\n      <td>5500</td>\n      <td>12.368421</td>\n      <td>24</td>\n      <td>13295</td>\n    </tr>\n    <tr>\n      <th>192</th>\n      <td>1</td>\n      <td>122.0</td>\n      <td>volkswagen</td>\n      <td>diesel</td>\n      <td>turbo</td>\n      <td>four</td>\n      <td>sedan</td>\n      <td>fwd</td>\n      <td>front</td>\n      <td>100.4</td>\n      <td>...</td>\n      <td>97</td>\n      <td>idi</td>\n      <td>3.01</td>\n      <td>3.4</td>\n      <td>23.00</td>\n      <td>68</td>\n      <td>4500</td>\n      <td>7.121212</td>\n      <td>38</td>\n      <td>13845</td>\n    </tr>\n    <tr>\n      <th>193</th>\n      <td>1</td>\n      <td>122.0</td>\n      <td>volkswagen</td>\n      <td>gas</td>\n      <td>std</td>\n      <td>four</td>\n      <td>wagon</td>\n      <td>fwd</td>\n      <td>front</td>\n      <td>100.4</td>\n      <td>...</td>\n      <td>109</td>\n      <td>mpfi</td>\n      <td>3.19</td>\n      <td>3.4</td>\n      <td>9.00</td>\n      <td>88</td>\n      <td>5500</td>\n      <td>9.400000</td>\n      <td>31</td>\n      <td>12290</td>\n    </tr>\n    <tr>\n      <th>194</th>\n      <td>-1</td>\n      <td>103.0</td>\n      <td>volvo</td>\n      <td>gas</td>\n      <td>std</td>\n      <td>four</td>\n      <td>sedan</td>\n      <td>rwd</td>\n      <td>front</td>\n      <td>104.3</td>\n      <td>...</td>\n      <td>141</td>\n      <td>mpfi</td>\n      <td>3.78</td>\n      <td>3.15</td>\n      <td>9.50</td>\n      <td>114</td>\n      <td>5400</td>\n      <td>10.217391</td>\n      <td>28</td>\n      <td>12940</td>\n    </tr>\n    <tr>\n      <th>195</th>\n      <td>0</td>\n      <td>74.0</td>\n      <td>volvo</td>\n      <td>gas</td>\n      <td>std</td>\n      <td>four</td>\n      <td>wagon</td>\n      <td>rwd</td>\n      <td>front</td>\n      <td>104.3</td>\n      <td>...</td>\n      <td>141</td>\n      <td>mpfi</td>\n      <td>3.78</td>\n      <td>3.15</td>\n      <td>9.50</td>\n      <td>114</td>\n      <td>5400</td>\n      <td>10.217391</td>\n      <td>28</td>\n      <td>13415</td>\n    </tr>\n    <tr>\n      <th>196</th>\n      <td>-1</td>\n      <td>103.0</td>\n      <td>volvo</td>\n      <td>gas</td>\n      <td>std</td>\n      <td>four</td>\n      <td>sedan</td>\n      <td>rwd</td>\n      <td>front</td>\n      <td>104.3</td>\n      <td>...</td>\n      <td>141</td>\n      <td>mpfi</td>\n      <td>3.78</td>\n      <td>3.15</td>\n      <td>9.50</td>\n      <td>114</td>\n      <td>5400</td>\n      <td>9.791667</td>\n      <td>28</td>\n      <td>15985</td>\n    </tr>\n    <tr>\n      <th>197</th>\n      <td>0</td>\n      <td>74.0</td>\n      <td>volvo</td>\n      <td>gas</td>\n      <td>std</td>\n      <td>four</td>\n      <td>wagon</td>\n      <td>rwd</td>\n      <td>front</td>\n      <td>104.3</td>\n      <td>...</td>\n      <td>141</td>\n      <td>mpfi</td>\n      <td>3.78</td>\n      <td>3.15</td>\n      <td>9.50</td>\n      <td>114</td>\n      <td>5400</td>\n      <td>9.791667</td>\n      <td>28</td>\n      <td>16515</td>\n    </tr>\n    <tr>\n      <th>198</th>\n      <td>-1</td>\n      <td>103.0</td>\n      <td>volvo</td>\n      <td>gas</td>\n      <td>turbo</td>\n      <td>four</td>\n      <td>sedan</td>\n      <td>rwd</td>\n      <td>front</td>\n      <td>104.3</td>\n      <td>...</td>\n      <td>130</td>\n      <td>mpfi</td>\n      <td>3.62</td>\n      <td>3.15</td>\n      <td>7.50</td>\n      <td>162</td>\n      <td>5100</td>\n      <td>13.823529</td>\n      <td>22</td>\n      <td>18420</td>\n    </tr>\n    <tr>\n      <th>199</th>\n      <td>0</td>\n      <td>74.0</td>\n      <td>volvo</td>\n      <td>gas</td>\n      <td>turbo</td>\n      <td>four</td>\n      <td>wagon</td>\n      <td>rwd</td>\n      <td>front</td>\n      <td>104.3</td>\n      <td>...</td>\n      <td>130</td>\n      <td>mpfi</td>\n      <td>3.62</td>\n      <td>3.15</td>\n      <td>7.50</td>\n      <td>162</td>\n      <td>5100</td>\n      <td>13.823529</td>\n      <td>22</td>\n      <td>18950</td>\n    </tr>\n    <tr>\n      <th>200</th>\n      <td>0</td>\n      <td>95.0</td>\n      <td>volvo</td>\n      <td>gas</td>\n      <td>std</td>\n      <td>four</td>\n      <td>sedan</td>\n      <td>rwd</td>\n      <td>front</td>\n      <td>109.1</td>\n      <td>...</td>\n      <td>141</td>\n      <td>mpfi</td>\n      <td>3.78</td>\n      <td>3.15</td>\n      <td>9.50</td>\n      <td>114</td>\n      <td>5400</td>\n      <td>10.217391</td>\n      <td>28</td>\n      <td>16845</td>\n    </tr>\n    <tr>\n      <th>201</th>\n      <td>0</td>\n      <td>95.0</td>\n      <td>volvo</td>\n      <td>gas</td>\n      <td>turbo</td>\n      <td>four</td>\n      <td>sedan</td>\n      <td>rwd</td>\n      <td>front</td>\n      <td>109.1</td>\n      <td>...</td>\n      <td>141</td>\n      <td>mpfi</td>\n      <td>3.78</td>\n      <td>3.15</td>\n      <td>8.70</td>\n      <td>160</td>\n      <td>5300</td>\n      <td>12.368421</td>\n      <td>25</td>\n      <td>19045</td>\n    </tr>\n    <tr>\n      <th>202</th>\n      <td>0</td>\n      <td>95.0</td>\n      <td>volvo</td>\n      <td>gas</td>\n      <td>std</td>\n      <td>four</td>\n      <td>sedan</td>\n      <td>rwd</td>\n      <td>front</td>\n      <td>109.1</td>\n      <td>...</td>\n      <td>173</td>\n      <td>mpfi</td>\n      <td>3.58</td>\n      <td>2.87</td>\n      <td>8.80</td>\n      <td>134</td>\n      <td>5500</td>\n      <td>13.055556</td>\n      <td>23</td>\n      <td>21485</td>\n    </tr>\n    <tr>\n      <th>203</th>\n      <td>0</td>\n      <td>95.0</td>\n      <td>volvo</td>\n      <td>diesel</td>\n      <td>turbo</td>\n      <td>four</td>\n      <td>sedan</td>\n      <td>rwd</td>\n      <td>front</td>\n      <td>109.1</td>\n      <td>...</td>\n      <td>145</td>\n      <td>idi</td>\n      <td>3.01</td>\n      <td>3.4</td>\n      <td>23.00</td>\n      <td>106</td>\n      <td>4800</td>\n      <td>9.038462</td>\n      <td>27</td>\n      <td>22470</td>\n    </tr>\n    <tr>\n      <th>204</th>\n      <td>0</td>\n      <td>95.0</td>\n      <td>volvo</td>\n      <td>gas</td>\n      <td>turbo</td>\n      <td>four</td>\n      <td>sedan</td>\n      <td>rwd</td>\n      <td>front</td>\n      <td>109.1</td>\n      <td>...</td>\n      <td>141</td>\n      <td>mpfi</td>\n      <td>3.78</td>\n      <td>3.15</td>\n      <td>9.50</td>\n      <td>114</td>\n      <td>5400</td>\n      <td>12.368421</td>\n      <td>25</td>\n      <td>22625</td>\n    </tr>\n  </tbody>\n</table>\n<p>205 rows \u00d7 26 columns</p>\n</div>", 
                        "text/plain": "     symboling  normalized-losses         make fuel-type aspiration  \\\n0            4              122.0  alfa-romero       gas        std   \n1            4              122.0  alfa-romero       gas        std   \n2            2              122.0  alfa-romero       gas        std   \n3            3              164.0         audi       gas        std   \n4            3              164.0         audi       gas        std   \n5            3              122.0         audi       gas        std   \n6            2              158.0         audi       gas        std   \n7            2              122.0         audi       gas        std   \n8            2              158.0         audi       gas      turbo   \n9            1              122.0         audi       gas      turbo   \n10           3              192.0          bmw       gas        std   \n11           1              192.0          bmw       gas        std   \n12           1              188.0          bmw       gas        std   \n13           1              188.0          bmw       gas        std   \n14           2              122.0          bmw       gas        std   \n15           1              122.0          bmw       gas        std   \n16           1              122.0          bmw       gas        std   \n17           1              122.0          bmw       gas        std   \n18           3              121.0    chevrolet       gas        std   \n19           2               98.0    chevrolet       gas        std   \n20           1               81.0    chevrolet       gas        std   \n21           2              118.0        dodge       gas        std   \n22           2              118.0        dodge       gas        std   \n23           2              118.0        dodge       gas      turbo   \n24           2              148.0        dodge       gas        std   \n25           2              148.0        dodge       gas        std   \n26           2              148.0        dodge       gas        std   \n27           2              148.0        dodge       gas      turbo   \n28           0              110.0        dodge       gas        std   \n29           4              145.0        dodge       gas      turbo   \n..         ...                ...          ...       ...        ...   \n175          0               65.0       toyota       gas        std   \n176          0               65.0       toyota       gas        std   \n177          0               65.0       toyota       gas        std   \n178          4              197.0       toyota       gas        std   \n179          4              197.0       toyota       gas        std   \n180          0               90.0       toyota       gas        std   \n181          0              122.0       toyota       gas        std   \n182          3              122.0   volkswagen    diesel        std   \n183          3              122.0   volkswagen       gas        std   \n184          3               94.0   volkswagen    diesel        std   \n185          3               94.0   volkswagen       gas        std   \n186          3               94.0   volkswagen       gas        std   \n187          3               94.0   volkswagen    diesel      turbo   \n188          3               94.0   volkswagen       gas        std   \n189          4              122.0   volkswagen       gas        std   \n190          4              256.0   volkswagen       gas        std   \n191          1              122.0   volkswagen       gas        std   \n192          1              122.0   volkswagen    diesel      turbo   \n193          1              122.0   volkswagen       gas        std   \n194         -1              103.0        volvo       gas        std   \n195          0               74.0        volvo       gas        std   \n196         -1              103.0        volvo       gas        std   \n197          0               74.0        volvo       gas        std   \n198         -1              103.0        volvo       gas      turbo   \n199          0               74.0        volvo       gas      turbo   \n200          0               95.0        volvo       gas        std   \n201          0               95.0        volvo       gas      turbo   \n202          0               95.0        volvo       gas        std   \n203          0               95.0        volvo    diesel      turbo   \n204          0               95.0        volvo       gas      turbo   \n\n    num-of-doors   body-style drive-wheels engine-location  wheel-base  ...    \\\n0            two  convertible          rwd           front        88.6  ...     \n1            two  convertible          rwd           front        88.6  ...     \n2            two    hatchback          rwd           front        94.5  ...     \n3           four        sedan          fwd           front        99.8  ...     \n4           four        sedan          4wd           front        99.4  ...     \n5            two        sedan          fwd           front        99.8  ...     \n6           four        sedan          fwd           front       105.8  ...     \n7           four        wagon          fwd           front       105.8  ...     \n8           four        sedan          fwd           front       105.8  ...     \n9            two    hatchback          4wd           front        99.5  ...     \n10           two        sedan          rwd           front       101.2  ...     \n11          four        sedan          rwd           front       101.2  ...     \n12           two        sedan          rwd           front       101.2  ...     \n13          four        sedan          rwd           front       101.2  ...     \n14          four        sedan          rwd           front       103.5  ...     \n15          four        sedan          rwd           front       103.5  ...     \n16           two        sedan          rwd           front       103.5  ...     \n17          four        sedan          rwd           front       110.0  ...     \n18           two    hatchback          fwd           front        88.4  ...     \n19           two    hatchback          fwd           front        94.5  ...     \n20          four        sedan          fwd           front        94.5  ...     \n21           two    hatchback          fwd           front        93.7  ...     \n22           two    hatchback          fwd           front        93.7  ...     \n23           two    hatchback          fwd           front        93.7  ...     \n24          four    hatchback          fwd           front        93.7  ...     \n25          four        sedan          fwd           front        93.7  ...     \n26          four        sedan          fwd           front        93.7  ...     \n27             ?        sedan          fwd           front        93.7  ...     \n28          four        wagon          fwd           front       103.3  ...     \n29           two    hatchback          fwd           front        95.9  ...     \n..           ...          ...          ...             ...         ...  ...     \n175         four    hatchback          fwd           front       102.4  ...     \n176         four        sedan          fwd           front       102.4  ...     \n177         four    hatchback          fwd           front       102.4  ...     \n178          two    hatchback          rwd           front       102.9  ...     \n179          two    hatchback          rwd           front       102.9  ...     \n180         four        sedan          rwd           front       104.5  ...     \n181         four        wagon          rwd           front       104.5  ...     \n182          two        sedan          fwd           front        97.3  ...     \n183          two        sedan          fwd           front        97.3  ...     \n184         four        sedan          fwd           front        97.3  ...     \n185         four        sedan          fwd           front        97.3  ...     \n186         four        sedan          fwd           front        97.3  ...     \n187         four        sedan          fwd           front        97.3  ...     \n188         four        sedan          fwd           front        97.3  ...     \n189          two  convertible          fwd           front        94.5  ...     \n190          two    hatchback          fwd           front        94.5  ...     \n191         four        sedan          fwd           front       100.4  ...     \n192         four        sedan          fwd           front       100.4  ...     \n193         four        wagon          fwd           front       100.4  ...     \n194         four        sedan          rwd           front       104.3  ...     \n195         four        wagon          rwd           front       104.3  ...     \n196         four        sedan          rwd           front       104.3  ...     \n197         four        wagon          rwd           front       104.3  ...     \n198         four        sedan          rwd           front       104.3  ...     \n199         four        wagon          rwd           front       104.3  ...     \n200         four        sedan          rwd           front       109.1  ...     \n201         four        sedan          rwd           front       109.1  ...     \n202         four        sedan          rwd           front       109.1  ...     \n203         four        sedan          rwd           front       109.1  ...     \n204         four        sedan          rwd           front       109.1  ...     \n\n     engine-size  fuel-system  bore  stroke compression-ratio horsepower  \\\n0            130         mpfi  3.47    2.68              9.00        111   \n1            130         mpfi  3.47    2.68              9.00        111   \n2            152         mpfi  2.68    3.47              9.00        154   \n3            109         mpfi  3.19     3.4             10.00        102   \n4            136         mpfi  3.19     3.4              8.00        115   \n5            136         mpfi  3.19     3.4              8.50        110   \n6            136         mpfi  3.19     3.4              8.50        110   \n7            136         mpfi  3.19     3.4              8.50        110   \n8            131         mpfi  3.13     3.4              8.30        140   \n9            131         mpfi  3.13     3.4              7.00        160   \n10           108         mpfi   3.5     2.8              8.80        101   \n11           108         mpfi   3.5     2.8              8.80        101   \n12           164         mpfi  3.31    3.19              9.00        121   \n13           164         mpfi  3.31    3.19              9.00        121   \n14           164         mpfi  3.31    3.19              9.00        121   \n15           209         mpfi  3.62    3.39              8.00        182   \n16           209         mpfi  3.62    3.39              8.00        182   \n17           209         mpfi  3.62    3.39              8.00        182   \n18            61         2bbl  2.91    3.03              9.50         48   \n19            90         2bbl  3.03    3.11              9.60         70   \n20            90         2bbl  3.03    3.11              9.60         70   \n21            90         2bbl  2.97    3.23              9.41         68   \n22            90         2bbl  2.97    3.23              9.40         68   \n23            98         mpfi  3.03    3.39              7.60        102   \n24            90         2bbl  2.97    3.23              9.40         68   \n25            90         2bbl  2.97    3.23              9.40         68   \n26            90         2bbl  2.97    3.23              9.40         68   \n27            98         mpfi  3.03    3.39              7.60        102   \n28           122         2bbl  3.34    3.46              8.50         88   \n29           156          mfi   3.6     3.9              7.00        145   \n..           ...          ...   ...     ...               ...        ...   \n175          122         mpfi  3.31    3.54              8.70         92   \n176          122         mpfi  3.31    3.54              8.70         92   \n177          122         mpfi  3.31    3.54              8.70         92   \n178          171         mpfi  3.27    3.35              9.30        161   \n179          171         mpfi  3.27    3.35              9.30        161   \n180          171         mpfi  3.27    3.35              9.20        156   \n181          161         mpfi  3.27    3.35              9.20        156   \n182           97          idi  3.01     3.4             23.00         52   \n183          109         mpfi  3.19     3.4              9.00         85   \n184           97          idi  3.01     3.4             23.00         52   \n185          109         mpfi  3.19     3.4              9.00         85   \n186          109         mpfi  3.19     3.4              9.00         85   \n187           97          idi  3.01     3.4             23.00         68   \n188          109         mpfi  3.19     3.4             10.00        100   \n189          109         mpfi  3.19     3.4              8.50         90   \n190          109         mpfi  3.19     3.4              8.50         90   \n191          136         mpfi  3.19     3.4              8.50        110   \n192           97          idi  3.01     3.4             23.00         68   \n193          109         mpfi  3.19     3.4              9.00         88   \n194          141         mpfi  3.78    3.15              9.50        114   \n195          141         mpfi  3.78    3.15              9.50        114   \n196          141         mpfi  3.78    3.15              9.50        114   \n197          141         mpfi  3.78    3.15              9.50        114   \n198          130         mpfi  3.62    3.15              7.50        162   \n199          130         mpfi  3.62    3.15              7.50        162   \n200          141         mpfi  3.78    3.15              9.50        114   \n201          141         mpfi  3.78    3.15              8.70        160   \n202          173         mpfi  3.58    2.87              8.80        134   \n203          145          idi  3.01     3.4             23.00        106   \n204          141         mpfi  3.78    3.15              9.50        114   \n\n     peak-rpm city-L/100km highway-mpg  price  \n0        5000    11.190476          27  13495  \n1        5000    11.190476          27  16500  \n2        5000    12.368421          26  16500  \n3        5500     9.791667          30  13950  \n4        5500    13.055556          22  17450  \n5        5500    12.368421          25  15250  \n6        5500    12.368421          25  17710  \n7        5500    12.368421          25  18920  \n8        5500    13.823529          20  23875  \n9        5500    14.687500          22  13207  \n10       5800    10.217391          29  16430  \n11       5800    10.217391          29  16925  \n12       4250    11.190476          28  20970  \n13       4250    11.190476          28  21105  \n14       4250    11.750000          25  24565  \n15       5400    14.687500          22  30760  \n16       5400    14.687500          22  41315  \n17       5400    15.666667          20  36880  \n18       5100     5.000000          53   5151  \n19       5400     6.184211          43   6295  \n20       5400     6.184211          43   6575  \n21       5500     6.351351          41   5572  \n22       5500     7.580645          38   6377  \n23       5500     9.791667          30   7957  \n24       5500     7.580645          38   6229  \n25       5500     7.580645          38   6692  \n26       5500     7.580645          38   7609  \n27       5500     9.791667          30   8558  \n28       5000     9.791667          30   8921  \n29       5000    12.368421          24  12964  \n..        ...          ...         ...    ...  \n175      4200     8.703704          32   9988  \n176      4200     8.703704          32  10898  \n177      4200     8.703704          32  11248  \n178      5200    11.750000          24  16558  \n179      5200    12.368421          24  15998  \n180      5200    11.750000          24  15690  \n181      5200    12.368421          24  15750  \n182      4800     6.351351          46   7775  \n183      5250     8.703704          34   7975  \n184      4800     6.351351          46   7995  \n185      5250     8.703704          34   8195  \n186      5250     8.703704          34   8495  \n187      4500     6.351351          42   9495  \n188      5500     9.038462          32   9995  \n189      5500     9.791667          29  11595  \n190      5500     9.791667          29   9980  \n191      5500    12.368421          24  13295  \n192      4500     7.121212          38  13845  \n193      5500     9.400000          31  12290  \n194      5400    10.217391          28  12940  \n195      5400    10.217391          28  13415  \n196      5400     9.791667          28  15985  \n197      5400     9.791667          28  16515  \n198      5100    13.823529          22  18420  \n199      5100    13.823529          22  18950  \n200      5400    10.217391          28  16845  \n201      5300    12.368421          25  19045  \n202      5500    13.055556          23  21485  \n203      4800     9.038462          27  22470  \n204      5400    12.368421          25  22625  \n\n[205 rows x 26 columns]"
                    }, 
                    "output_type": "execute_result"
                }
            ], 
            "source": "CarData"
        }, 
        {
            "execution_count": 29, 
            "cell_type": "code", 
            "metadata": {}, 
            "outputs": [], 
            "source": "# We want to divide into 3 bins\nbinwidth = int((max(CarData['price']) - min(CarData['price']))/3)\n# Creating Bin Array from min value to max value with binwidth calculated above!!\nbins = range(min(CarData['price']),max(CarData['price']), binwidth)\n# Creating labels for each bin\ngroup_names = ['Low','Medium', 'High']\nCarData['price_binned'] = pd.cut(CarData['price'], bins, labels = group_names)\n"
        }, 
        {
            "execution_count": 44, 
            "cell_type": "code", 
            "metadata": {}, 
            "outputs": [
                {
                    "execution_count": 44, 
                    "metadata": {}, 
                    "data": {
                        "text/plain": "Low       174\nMedium     18\nHigh       11\nName: price_binned, dtype: int64"
                    }, 
                    "output_type": "execute_result"
                }
            ], 
            "source": "CarData['price_binned'].value_counts()"
        }, 
        {
            "source": "## One hot encoding", 
            "cell_type": "markdown", 
            "metadata": {}
        }, 
        {
            "source": "#### pandas.get_dummies(dataframe['column_name']) to convert categorical variable into dummy variable.", 
            "cell_type": "markdown", 
            "metadata": {}
        }, 
        {
            "execution_count": 49, 
            "cell_type": "code", 
            "metadata": {}, 
            "outputs": [
                {
                    "execution_count": 49, 
                    "metadata": {}, 
                    "data": {
                        "text/plain": "gas       185\ndiesel     20\nName: fuel-type, dtype: int64"
                    }, 
                    "output_type": "execute_result"
                }
            ], 
            "source": "# We will convert fuel type into dummy variable.\nCarData['fuel-type'].value_counts()"
        }, 
        {
            "execution_count": 52, 
            "cell_type": "code", 
            "metadata": {}, 
            "outputs": [
                {
                    "execution_count": 52, 
                    "metadata": {}, 
                    "data": {
                        "text/plain": "0    185\n1     20\nName: fuel-type, dtype: int64"
                    }, 
                    "output_type": "execute_result"
                }
            ], 
            "source": "# fuel-type is gas or diesel , \nCarData['fuel-type'] = pd.get_dummies(CarData['fuel-type'])\nCarData['fuel-type'].value_counts()"
        }
    ], 
    "metadata": {
        "kernelspec": {
            "display_name": "Python 3.5", 
            "name": "python3", 
            "language": "python"
        }, 
        "language_info": {
            "mimetype": "text/x-python", 
            "nbconvert_exporter": "python", 
            "version": "3.5.5", 
            "name": "python", 
            "file_extension": ".py", 
            "pygments_lexer": "ipython3", 
            "codemirror_mode": {
                "version": 3, 
                "name": "ipython"
            }
        }
    }, 
    "nbformat": 4
}